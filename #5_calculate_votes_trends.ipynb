{
 "cells": [
  {
   "cell_type": "markdown",
   "source": [
    "## Notebook to calculate votes creation trends for tag\n",
    "\n",
    "### Description\n",
    "This notebook calculate basic trends data like tag rank based on the number of up-votes up until certain date.\n",
    "\n",
    "### Input\n",
    "This notebook takes as an input `posts_tag.csv` and `votes.csv` file, produced by the previous step.\n",
    "\n",
    "### Output\n",
    "As an output this notebook produces `votes_trends.csv` file with the following format:\n",
    "```\n",
    "Tag,CreationDate,TagPostsCreated,TagTotalPostsCreated,PostsCreated,TotalPostsCreated,TagPostsShare,TagRank\n",
    "{tag},{creation-date},{tag-posts-created},{tag-total-posts-created},{posts-created},{tag-posts-share},{tag-rank}\n",
    "```\n",
    "\n",
    "where:\n",
    "- `{tag}` - single tag related to a post. For instance: `c#`\n",
    "- `{creation-date}` - post creation in 'YYYY-MM' format. For example: '2008-07'\n",
    "- `{tag-votes-created}` - the number of posts created with that tag and at `{creation-date}`;\n",
    "- `{tag-total-votes-created}` - the cumulative number of votes created with that tag from the beginning up until `{creation-date}`;\n",
    "- `{votes-created}` - the number of all votes created at `{creation-date}`;\n",
    "- `{total-votes-created}` - the cumulative number of posts created from the beginning up until `{creation-date}`;\n",
    "- `{tag-posts-share}` - the percentage of posts created with that tag comparing to all posts. Calculated as `{tag-total-votes-created} / {total-votes-created} * 100`;\n",
    "- `{tag-rank}` - the rank of the `{tag}` based on `{tag-votes-share}` in comparison to other tags at the same `{creation-date}`;\n",
    "\n",
    "For example:\n",
    "```csv\n",
    "Tag,CreationDate,TagPostsCreated,TagTotalPostsCreated,PostsCreated,TotalPostsCreated,TagPostsShare,TagRank\n",
    "```"
   ],
   "metadata": {
    "collapsed": false
   }
  },
  {
   "cell_type": "code",
   "execution_count": null,
   "outputs": [],
   "source": [
    "import pandas as pd\n",
    "from config import get_file_path"
   ],
   "metadata": {
    "collapsed": false
   }
  },
  {
   "cell_type": "markdown",
   "source": [
    "#### Load data, show shape and sample"
   ],
   "metadata": {
    "collapsed": false
   }
  },
  {
   "cell_type": "code",
   "execution_count": null,
   "outputs": [],
   "source": [
    "posts_tag_file_path = get_file_path(\"posts_tag.csv\")\n",
    "posts_tag_df = pd.read_csv(posts_tag_file_path)\n",
    "posts_tag_df"
   ],
   "metadata": {
    "collapsed": false
   }
  },
  {
   "cell_type": "code",
   "execution_count": null,
   "outputs": [],
   "source": [
    "votes_file_path = get_file_path(\"votes.csv\")\n",
    "votes_df = pd.read_csv(votes_file_path)\n",
    "votes_df"
   ],
   "metadata": {
    "collapsed": false
   }
  },
  {
   "cell_type": "code",
   "execution_count": null,
   "outputs": [],
   "source": [
    "vote_creation_trends_df = pd.merge(\n",
    "    posts_tag_df,\n",
    "    votes_df,\n",
    "    left_on='Id',\n",
    "    right_on='PostId',\n",
    "    how='inner',\n",
    "    suffixes=('_Post', '_Vote')\n",
    ")\n",
    "vote_creation_trends_df"
   ],
   "metadata": {
    "collapsed": false
   }
  }
 ],
 "metadata": {
  "kernelspec": {
   "display_name": "Python 3",
   "language": "python",
   "name": "python3"
  },
  "language_info": {
   "codemirror_mode": {
    "name": "ipython",
    "version": 2
   },
   "file_extension": ".py",
   "mimetype": "text/x-python",
   "name": "python",
   "nbconvert_exporter": "python",
   "pygments_lexer": "ipython2",
   "version": "2.7.6"
  }
 },
 "nbformat": 4,
 "nbformat_minor": 0
}
