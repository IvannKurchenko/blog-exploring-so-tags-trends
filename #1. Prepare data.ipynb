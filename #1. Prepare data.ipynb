{
 "cells": [
  {
   "cell_type": "markdown",
   "id": "2a29fb89-0199-461e-a53d-d1de548bac6b",
   "metadata": {},
   "source": []
  },
  {
   "cell_type": "code",
   "execution_count": 1,
   "id": "50b86498-eb40-4be6-ac98-d17d5b779a60",
   "metadata": {},
   "outputs": [],
   "source": [
    "import xml.sax\n",
    "import csv\n",
    "\n",
    "class DataDocumentHandler(xml.sax.ContentHandler):\n",
    "    def __init__(self, output_file_name, attributes_to_include):\n",
    "        super().__init__()\n",
    "        self.csvfile = open(output_file_name, \"w\", newline='', encoding='utf-8')\n",
    "        self.csvwriter = csv.writer(self.csvfile)\n",
    "        self.headers_written = False\n",
    "        self.rows_processed = 0\n",
    "        self.attributes_to_include = attributes_to_include\n",
    "\n",
    "        print(f\"Initialized handler and opened {output_file_name} for writing.\")\n",
    "\n",
    "    def startElement(self, name, attrs):\n",
    "        if name == 'row':\n",
    "            self.rows_processed += 1\n",
    "            row_data = {a: attrs.getValue(a) for a in self.attributes_to_include if a in attrs}\n",
    "            if not self.headers_written:\n",
    "                self.csvwriter.writerow(self.attributes_to_include)\n",
    "                self.headers_written = True\n",
    "                print(\"CSV headers written.\")\n",
    "            self.csvwriter.writerow([row_data.get(a, None) for a in self.attributes_to_include])\n",
    "\n",
    "    def endDocument(self):\n",
    "        self.csvfile.close()\n",
    "        print(f\"Finished processing and closed the file. Total rows processed: {self.rows_processed}\")\n",
    "\n",
    "    def startDocument(self):\n",
    "        print(\"Started processing XML document.\")\n",
    "\n",
    "\n",
    "def prepare_data(xml_file: str, csv_file: str, attributes_to_include: set[str]):\n",
    "    parser = xml.sax.make_parser()\n",
    "    parser.setFeature(xml.sax.handler.feature_namespaces, 0)\n",
    "\n",
    "    handler = DataDocumentHandler(csv_file, attributes_to_include)\n",
    "    parser.setContentHandler(handler)\n",
    "\n",
    "    print(f\"Starting XML parsing: {xml_file}\")\n",
    "    parser.parse(xml_file)\n",
    "    print(\"XML parsing completed successfully.\")"
   ]
  },
  {
   "cell_type": "code",
   "execution_count": 2,
   "id": "9f12dcfb-2dec-4285-93db-47bea7b1c75e",
   "metadata": {},
   "outputs": [
    {
     "name": "stdout",
     "output_type": "stream",
     "text": [
      "Initialized handler and opened Posts.csv for writing.\n",
      "Starting XML parsing: Posts.xml\n",
      "Started processing XML document.\n",
      "CSV headers written.\n",
      "Finished processing and closed the file. Total rows processed: 59749049\n",
      "XML parsing completed successfully.\n"
     ]
    }
   ],
   "source": [
    "posts_xml_file = \"Posts.xml\"\n",
    "posts_csv_file = \"Posts.csv\"\n",
    "posts_attributes_to_include = {\n",
    "    'Id', # need for analysis\n",
    "    'PostTypeId', # need for analysis\n",
    "    'ParentId', # need for analysis\n",
    "    'CreationDate', # need for analysis\n",
    "    'DeletionDate', # need to filter out deleted posts\n",
    "    'Tags', # need to explore tags\n",
    "    'ClosedDate' # need to filter out closed posts\n",
    "}\n",
    "\n",
    "prepare_data(posts_xml_file, posts_csv_file, posts_attributes_to_include)"
   ]
  },
  {
   "cell_type": "code",
   "execution_count": 15,
   "id": "eb4c3809-cbcf-4e3e-998d-7ba39fb95cc2",
   "metadata": {
    "tags": []
   },
   "outputs": [
    {
     "name": "stdout",
     "output_type": "stream",
     "text": [
      "Initialized handler and opened Votes.csv for writing.\n",
      "Starting XML parsing: Votes.xml\n",
      "Started processing XML document.\n",
      "CSV headers written.\n",
      "Finished processing and closed the file. Total rows processed: 238041583\n",
      "XML parsing completed successfully.\n"
     ]
    }
   ],
   "source": [
    "votes_xml_file = \"Votes.xml\"\n",
    "votes_csv_file = \"Votes.csv\"\n",
    "votes_attributes_to_include = {\n",
    "    'PostId', # need for analysis\n",
    "    'VoteTypeId', # need for analysis\n",
    "    'CreationDate' # need for analysis\n",
    "}\n",
    "\n",
    "prepare_data(votes_xml_file, votes_csv_file, votes_attributes_to_include)"
   ]
  },
  {
   "cell_type": "code",
   "execution_count": null,
   "id": "39e65c3a-bfb3-4ea8-bf24-50fe583688d1",
   "metadata": {},
   "outputs": [],
   "source": []
  }
 ],
 "metadata": {
  "environment": {
   "kernel": "conda-root-py",
   "name": "workbench-notebooks.m118",
   "type": "gcloud",
   "uri": "us-docker.pkg.dev/deeplearning-platform-release/gcr.io/workbench-notebooks:m118"
  },
  "kernelspec": {
   "display_name": "Python 3 (ipykernel)",
   "language": "python",
   "name": "conda-root-py"
  },
  "language_info": {
   "codemirror_mode": {
    "name": "ipython",
    "version": 3
   },
   "file_extension": ".py",
   "mimetype": "text/x-python",
   "name": "python",
   "nbconvert_exporter": "python",
   "pygments_lexer": "ipython3",
   "version": "3.10.13"
  }
 },
 "nbformat": 4,
 "nbformat_minor": 5
}
