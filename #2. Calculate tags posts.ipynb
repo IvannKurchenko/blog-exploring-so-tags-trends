{
 "cells": [
  {
   "cell_type": "code",
   "execution_count": 1,
   "id": "b38c1afb-f8cd-4afe-b25d-08a70033ee6b",
   "metadata": {
    "tags": []
   },
   "outputs": [],
   "source": [
    "import pandas as pd"
   ]
  },
  {
   "cell_type": "code",
   "execution_count": 2,
   "id": "33106c60-0c30-4ff3-97c8-9306ddd588e5",
   "metadata": {
    "tags": []
   },
   "outputs": [],
   "source": [
    "all_posts_df = pd.read_csv(\"Posts.csv\")"
   ]
  },
  {
   "cell_type": "code",
   "execution_count": 3,
   "id": "34a56d59-8c46-4086-b6ae-6962b0154733",
   "metadata": {
    "tags": []
   },
   "outputs": [
    {
     "data": {
      "text/plain": [
       "Tags             object\n",
       "ParentId        float64\n",
       "CreationDate     object\n",
       "Id                int64\n",
       "DeletionDate    float64\n",
       "PostTypeId        int64\n",
       "ClosedDate       object\n",
       "dtype: object"
      ]
     },
     "execution_count": 3,
     "metadata": {},
     "output_type": "execute_result"
    }
   ],
   "source": [
    "# Show data shape\n",
    "all_posts_df.dtypes"
   ]
  },
  {
   "cell_type": "code",
   "execution_count": 4,
   "id": "9f15991a-c9e6-43d1-b7e3-2127353c1394",
   "metadata": {},
   "outputs": [
    {
     "data": {
      "text/html": [
       "<div>\n",
       "<style scoped>\n",
       "    .dataframe tbody tr th:only-of-type {\n",
       "        vertical-align: middle;\n",
       "    }\n",
       "\n",
       "    .dataframe tbody tr th {\n",
       "        vertical-align: top;\n",
       "    }\n",
       "\n",
       "    .dataframe thead th {\n",
       "        text-align: right;\n",
       "    }\n",
       "</style>\n",
       "<table border=\"1\" class=\"dataframe\">\n",
       "  <thead>\n",
       "    <tr style=\"text-align: right;\">\n",
       "      <th></th>\n",
       "      <th>Tags</th>\n",
       "      <th>ParentId</th>\n",
       "      <th>CreationDate</th>\n",
       "      <th>Id</th>\n",
       "      <th>DeletionDate</th>\n",
       "      <th>PostTypeId</th>\n",
       "      <th>ClosedDate</th>\n",
       "    </tr>\n",
       "  </thead>\n",
       "  <tbody>\n",
       "    <tr>\n",
       "      <th>0</th>\n",
       "      <td>&lt;c#&gt;&lt;floating-point&gt;&lt;type-conversion&gt;&lt;double&gt;&lt;...</td>\n",
       "      <td>NaN</td>\n",
       "      <td>2008-07-31T21:42:52.667</td>\n",
       "      <td>4</td>\n",
       "      <td>NaN</td>\n",
       "      <td>1</td>\n",
       "      <td>NaN</td>\n",
       "    </tr>\n",
       "    <tr>\n",
       "      <th>1</th>\n",
       "      <td>&lt;html&gt;&lt;css&gt;&lt;internet-explorer-7&gt;</td>\n",
       "      <td>NaN</td>\n",
       "      <td>2008-07-31T22:08:08.620</td>\n",
       "      <td>6</td>\n",
       "      <td>NaN</td>\n",
       "      <td>1</td>\n",
       "      <td>NaN</td>\n",
       "    </tr>\n",
       "    <tr>\n",
       "      <th>2</th>\n",
       "      <td>NaN</td>\n",
       "      <td>4.0</td>\n",
       "      <td>2008-07-31T22:17:57.883</td>\n",
       "      <td>7</td>\n",
       "      <td>NaN</td>\n",
       "      <td>2</td>\n",
       "      <td>NaN</td>\n",
       "    </tr>\n",
       "    <tr>\n",
       "      <th>3</th>\n",
       "      <td>&lt;c#&gt;&lt;.net&gt;&lt;datetime&gt;</td>\n",
       "      <td>NaN</td>\n",
       "      <td>2008-07-31T23:40:59.743</td>\n",
       "      <td>9</td>\n",
       "      <td>NaN</td>\n",
       "      <td>1</td>\n",
       "      <td>NaN</td>\n",
       "    </tr>\n",
       "    <tr>\n",
       "      <th>4</th>\n",
       "      <td>&lt;c#&gt;&lt;datetime&gt;&lt;time&gt;&lt;datediff&gt;&lt;relative-time-s...</td>\n",
       "      <td>NaN</td>\n",
       "      <td>2008-07-31T23:55:37.967</td>\n",
       "      <td>11</td>\n",
       "      <td>NaN</td>\n",
       "      <td>1</td>\n",
       "      <td>NaN</td>\n",
       "    </tr>\n",
       "    <tr>\n",
       "      <th>...</th>\n",
       "      <td>...</td>\n",
       "      <td>...</td>\n",
       "      <td>...</td>\n",
       "      <td>...</td>\n",
       "      <td>...</td>\n",
       "      <td>...</td>\n",
       "      <td>...</td>\n",
       "    </tr>\n",
       "    <tr>\n",
       "      <th>59749044</th>\n",
       "      <td>&lt;wifi&gt;&lt;gstreamer&gt;&lt;esp32&gt;&lt;audio-streaming&gt;&lt;mult...</td>\n",
       "      <td>NaN</td>\n",
       "      <td>2024-03-02T02:52:48.793</td>\n",
       "      <td>78091308</td>\n",
       "      <td>NaN</td>\n",
       "      <td>1</td>\n",
       "      <td>NaN</td>\n",
       "    </tr>\n",
       "    <tr>\n",
       "      <th>59749045</th>\n",
       "      <td>&lt;jquery&gt;&lt;woocommerce&gt;&lt;hide&gt;&lt;show&gt;</td>\n",
       "      <td>NaN</td>\n",
       "      <td>2024-03-02T02:53:20.573</td>\n",
       "      <td>78091309</td>\n",
       "      <td>NaN</td>\n",
       "      <td>1</td>\n",
       "      <td>NaN</td>\n",
       "    </tr>\n",
       "    <tr>\n",
       "      <th>59749046</th>\n",
       "      <td>NaN</td>\n",
       "      <td>18727766.0</td>\n",
       "      <td>2024-03-02T02:53:29.510</td>\n",
       "      <td>78091310</td>\n",
       "      <td>NaN</td>\n",
       "      <td>2</td>\n",
       "      <td>NaN</td>\n",
       "    </tr>\n",
       "    <tr>\n",
       "      <th>59749047</th>\n",
       "      <td>&lt;r&gt;</td>\n",
       "      <td>NaN</td>\n",
       "      <td>2024-03-02T02:54:12.030</td>\n",
       "      <td>78091311</td>\n",
       "      <td>NaN</td>\n",
       "      <td>1</td>\n",
       "      <td>NaN</td>\n",
       "    </tr>\n",
       "    <tr>\n",
       "      <th>59749048</th>\n",
       "      <td>NaN</td>\n",
       "      <td>56799540.0</td>\n",
       "      <td>2024-03-02T02:54:41.790</td>\n",
       "      <td>78091312</td>\n",
       "      <td>NaN</td>\n",
       "      <td>2</td>\n",
       "      <td>NaN</td>\n",
       "    </tr>\n",
       "  </tbody>\n",
       "</table>\n",
       "<p>59749049 rows × 7 columns</p>\n",
       "</div>"
      ],
      "text/plain": [
       "                                                       Tags    ParentId  \\\n",
       "0         <c#><floating-point><type-conversion><double><...         NaN   \n",
       "1                          <html><css><internet-explorer-7>         NaN   \n",
       "2                                                       NaN         4.0   \n",
       "3                                      <c#><.net><datetime>         NaN   \n",
       "4         <c#><datetime><time><datediff><relative-time-s...         NaN   \n",
       "...                                                     ...         ...   \n",
       "59749044  <wifi><gstreamer><esp32><audio-streaming><mult...         NaN   \n",
       "59749045                  <jquery><woocommerce><hide><show>         NaN   \n",
       "59749046                                                NaN  18727766.0   \n",
       "59749047                                                <r>         NaN   \n",
       "59749048                                                NaN  56799540.0   \n",
       "\n",
       "                     CreationDate        Id  DeletionDate  PostTypeId  \\\n",
       "0         2008-07-31T21:42:52.667         4           NaN           1   \n",
       "1         2008-07-31T22:08:08.620         6           NaN           1   \n",
       "2         2008-07-31T22:17:57.883         7           NaN           2   \n",
       "3         2008-07-31T23:40:59.743         9           NaN           1   \n",
       "4         2008-07-31T23:55:37.967        11           NaN           1   \n",
       "...                           ...       ...           ...         ...   \n",
       "59749044  2024-03-02T02:52:48.793  78091308           NaN           1   \n",
       "59749045  2024-03-02T02:53:20.573  78091309           NaN           1   \n",
       "59749046  2024-03-02T02:53:29.510  78091310           NaN           2   \n",
       "59749047  2024-03-02T02:54:12.030  78091311           NaN           1   \n",
       "59749048  2024-03-02T02:54:41.790  78091312           NaN           2   \n",
       "\n",
       "         ClosedDate  \n",
       "0               NaN  \n",
       "1               NaN  \n",
       "2               NaN  \n",
       "3               NaN  \n",
       "4               NaN  \n",
       "...             ...  \n",
       "59749044        NaN  \n",
       "59749045        NaN  \n",
       "59749046        NaN  \n",
       "59749047        NaN  \n",
       "59749048        NaN  \n",
       "\n",
       "[59749049 rows x 7 columns]"
      ]
     },
     "execution_count": 4,
     "metadata": {},
     "output_type": "execute_result"
    }
   ],
   "source": [
    "# Show sample data\n",
    "all_posts_df"
   ]
  },
  {
   "cell_type": "code",
   "execution_count": 5,
   "id": "9a79dfdb-66fb-4a5c-a2c1-555f73a03dbb",
   "metadata": {
    "tags": []
   },
   "outputs": [
    {
     "name": "stdout",
     "output_type": "stream",
     "text": [
      "59749049\n",
      "Number of NOT deleted or closed posts: 58652191, which is 98.16% of all data\n",
      "Filtered posts dataframe shape:\n"
     ]
    },
    {
     "data": {
      "text/plain": [
       "Tags             object\n",
       "ParentId        float64\n",
       "CreationDate     object\n",
       "Id                int64\n",
       "PostTypeId        int64\n",
       "dtype: object"
      ]
     },
     "execution_count": 5,
     "metadata": {},
     "output_type": "execute_result"
    }
   ],
   "source": [
    "# Filter out closed or deleted posts, since they considered as irrelevant\n",
    "# 'DeletionDate' and 'ClosedDate' columns present only for deleted or closed posts respectively.\n",
    "non_deleted_closed_posts_df = all_posts_df[pd.isna(all_posts_df['DeletionDate']) & pd.isna(all_posts_df['ClosedDate'])]\n",
    "non_deleted_closed_posts_count = len(non_deleted_closed_posts_df)\n",
    "all_posts_count = len(all_posts_df)\n",
    "print(all_posts_count)\n",
    "\n",
    "non_deleted_closed_posts_percentage = round((non_deleted_closed_posts_count / all_posts_count) * 100, 2)\n",
    "print(f'Number of NOT deleted or closed posts: {non_deleted_closed_posts_count}, which is {non_deleted_closed_posts_percentage}% of all data')\n",
    "\n",
    "# Remove columns that we don't need anymore\n",
    "posts_df = non_deleted_closed_posts_df.drop(['DeletionDate', 'ClosedDate'], axis=1)\n",
    "print('Filtered posts dataframe shape:')\n",
    "posts_df.dtypes"
   ]
  },
  {
   "cell_type": "code",
   "execution_count": null,
   "id": "2eeb79d4-6221-4be5-82da-74793dee8a68",
   "metadata": {},
   "outputs": [],
   "source": [
    "# Trends will be calculated per-month granularity.\n",
    "# Convert creation datetime into year-month pair. It easier and faster to do here, while posts dataframe is relatively small.\n",
    "posts_df['CreationYearMonth'] = pd.to_datetime(posts_df['CreationDate']).dt.strftime('%Y-%m')\n",
    "posts_df = posts_df.drop(['CreationDate'], axis=1)"
   ]
  },
  {
   "cell_type": "code",
   "execution_count": null,
   "id": "bad33f94-92d4-4f72-8c80-697ec8cf0986",
   "metadata": {},
   "outputs": [],
   "source": [
    "# Show sample data\n",
    "posts_df"
   ]
  },
  {
   "cell_type": "code",
   "execution_count": null,
   "id": "5e01bb84-4955-456a-80f6-58e3cbc8304c",
   "metadata": {
    "tags": []
   },
   "outputs": [],
   "source": [
    "# Split all posts_df onto two other dataframes: questions and answers.\n",
    "# Questions does not assigned tags and answers does.\n",
    "# Use `PostTypeId` column for it, where `1` is a type for question and `2` is for answer.\n",
    "# Drop `ParentId` column for questions, because it is always `null` since they are parent posts for questions.\n",
    "# Drop `Tags` column for answers, because it is always `null` since questions contain tags only. \n",
    "# Answers should have same tags as questions.\n",
    "# See readme.txt for more details.\n",
    "answers_df = posts_df[posts_df['PostTypeId'] == 2].drop(['PostTypeId', 'Tags'], axis=1)\n",
    "questions_df = posts_df[posts_df['PostTypeId'] == 1].drop(['PostTypeId', 'ParentId'], axis=1)\n",
    "\n",
    "answers_count = len(answers_df)\n",
    "questions_count = len(questions_df)\n",
    "posts_count = len(posts_df)\n",
    "\n",
    "answers_percentage = round((answers_count / posts_count) * 100, 2)\n",
    "questions_percentage = round((questions_count / posts_count) * 100, 2)\n",
    "\n",
    "print(f'Number of answers: {answers_count}, which is {answers_percentage}% of all data')\n",
    "print(f'Number of questions: {questions_count}, which is {questions_percentage}% of all data')"
   ]
  },
  {
   "cell_type": "code",
   "execution_count": null,
   "id": "511eb702-5db8-4b3a-8385-12998f9a3d48",
   "metadata": {
    "tags": []
   },
   "outputs": [],
   "source": [
    "# Parse `Tags` column. It contains list of tags in XML like format. For instance: `<c#><.net><datetime>`\n",
    "# To work properly with it, we need to turn it into proper list of tags.\n",
    "\n",
    "# Remove the '<' and '>' characters and then split by '><'\n",
    "questions_df['TagsParsed'] = questions_df['Tags'].str.replace('<', '').str.replace('>', '<').str.split('<')\n",
    "\n",
    "# Remove 'Tags' column that is not needed anymore\n",
    "questions_df.drop(['Tags'], axis=1, inplace=True)\n",
    "\n",
    "# Remove empty strings that may appear as a result of the split\n",
    "questions_df['TagsParsed'] = questions_df['TagsParsed'].apply(lambda tags: [tag for tag in tags if tag])"
   ]
  },
  {
   "cell_type": "code",
   "execution_count": null,
   "id": "f711feaf-782e-4c22-98b5-d2527240b1b7",
   "metadata": {},
   "outputs": [],
   "source": [
    "# Show data shape\n",
    "questions_df.dtypes"
   ]
  },
  {
   "cell_type": "code",
   "execution_count": null,
   "id": "1bc813d7-43fd-4be1-84a6-ed5963a6effa",
   "metadata": {
    "tags": []
   },
   "outputs": [],
   "source": [
    "# Show sample data\n",
    "questions_df"
   ]
  },
  {
   "cell_type": "code",
   "execution_count": null,
   "id": "948314db-2f36-47de-a38a-28df631dc20b",
   "metadata": {
    "tags": []
   },
   "outputs": [],
   "source": [
    "# Explode 'TagsParsed' column to have a single tag per row and rename it to 'Tag'\n",
    "# Having single tag per row allows to perform necessary aggregations.\n",
    "questions_tag_df = questions_df.explode('TagsParsed').rename(columns={'TagsParsed': 'Tag'})"
   ]
  },
  {
   "cell_type": "code",
   "execution_count": null,
   "id": "a264f9e1-4768-47c6-923b-eff0b8c5694b",
   "metadata": {},
   "outputs": [],
   "source": [
    "# Show data shape\n",
    "questions_tag_df.dtypes"
   ]
  },
  {
   "cell_type": "code",
   "execution_count": null,
   "id": "6f3e4780-a6fd-4d00-9937-7233baef1396",
   "metadata": {},
   "outputs": [],
   "source": [
    "# Show sample data\n",
    "questions_tag_df"
   ]
  },
  {
   "cell_type": "code",
   "execution_count": null,
   "id": "b2147434-674e-48c3-a59f-01c2a689a47f",
   "metadata": {
    "tags": []
   },
   "outputs": [],
   "source": [
    "# Merge answers dataframe with questions dataframe on 'Id' and 'ParentId' columns. \n",
    "# This merge is needed to populate tag data into answers posts for later aggregations.\n",
    "# As it was mentioned before, answers posts don't have tags assigned, because they implicitily inherit those from parent question posts.\n",
    "answers_tag_df = pd.merge(\n",
    "    questions_tag_df,\n",
    "    answers_df,\n",
    "    left_on='Id',\n",
    "    right_on='ParentId',\n",
    "    how='inner',\n",
    "    suffixes=('_Question', '_Answer')\n",
    ")[['CreationYearMonth_Answer', 'Tag', 'Id_Answer']].rename(columns={'CreationYearMonth_Answer': 'CreationYearMonth', 'Id_Answer': 'Id'})"
   ]
  },
  {
   "cell_type": "code",
   "execution_count": null,
   "id": "3b469bb8-dac9-4ef0-bbc8-ca4833a8b4b9",
   "metadata": {
    "tags": []
   },
   "outputs": [],
   "source": [
    "# Show data shape\n",
    "answers_tag_df.dtypes"
   ]
  },
  {
   "cell_type": "code",
   "execution_count": null,
   "id": "2e8bc4e8-cb09-4ee7-8bfd-7a310d8cf376",
   "metadata": {
    "tags": []
   },
   "outputs": [],
   "source": [
    "# Show sample data\n",
    "answers_tag_df"
   ]
  },
  {
   "cell_type": "code",
   "execution_count": null,
   "id": "fd5c965e-e8a0-42b1-8858-3d3874e18ff0",
   "metadata": {
    "tags": []
   },
   "outputs": [],
   "source": [
    "# Union questions and answers dataframes to get dataframe that shows all posts created for particular tag\n",
    "# Drop 'Id' column because it is not needed anymore.\n",
    "posts_tag_df = pd.concat([questions_tag_df, answers_tag_df], ignore_index=True)"
   ]
  },
  {
   "cell_type": "code",
   "execution_count": null,
   "id": "e8c41b4a-deac-4412-92eb-10d1b5a520fe",
   "metadata": {
    "tags": []
   },
   "outputs": [],
   "source": [
    "# Show data shape\n",
    "posts_tag_df.dtypes"
   ]
  },
  {
   "cell_type": "code",
   "execution_count": null,
   "id": "365ff4eb-edf0-4c78-9aaf-a84135d23320",
   "metadata": {
    "tags": []
   },
   "outputs": [],
   "source": [
    "# Show sample data\n",
    "posts_tag_df"
   ]
  },
  {
   "cell_type": "code",
   "execution_count": null,
   "id": "6df29e3d-9278-42d7-b1c5-46c5994911bf",
   "metadata": {
    "tags": []
   },
   "outputs": [],
   "source": [
    "# Save `posts_tag_df` as intermidiate result\n",
    "posts_tag_df.to_csv('posts_tag.csv', index=False)"
   ]
  }
 ],
 "metadata": {
  "environment": {
   "kernel": "conda-root-py",
   "name": "workbench-notebooks.m118",
   "type": "gcloud",
   "uri": "us-docker.pkg.dev/deeplearning-platform-release/gcr.io/workbench-notebooks:m118"
  },
  "kernelspec": {
   "display_name": "Python 3 (ipykernel)",
   "language": "python",
   "name": "conda-root-py"
  },
  "language_info": {
   "codemirror_mode": {
    "name": "ipython",
    "version": 3
   },
   "file_extension": ".py",
   "mimetype": "text/x-python",
   "name": "python",
   "nbconvert_exporter": "python",
   "pygments_lexer": "ipython3",
   "version": "3.10.13"
  }
 },
 "nbformat": 4,
 "nbformat_minor": 5
}
