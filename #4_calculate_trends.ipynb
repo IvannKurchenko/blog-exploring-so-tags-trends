{
 "cells": [
  {
   "cell_type": "markdown",
   "id": "54b98b5f40b260b6",
   "metadata": {},
   "source": [
    "## Notebook to calculate trends for tag\n",
    "\n",
    "### Description\n",
    "This notebook calculate trends data, like tag rank, based on activity score up until certain date.\n",
    "\n",
    "### Input \n",
    "This notebook takes as an input `posts_activity_tag.csv` partitioned file, produced by the previous step.\n",
    "\n",
    "### Output\n",
    "As an output this notebook produces `tag_trends.csv` file with the following format:\n",
    "```\n",
    "Tag,Date,TagPostsCreated,TagTotalPostsCreated,PostsCreated,TotalPostsCreated,TagPostsShare,TagRank\n",
    "{tag},{creation-date},{tag-posts-created},{tag-total-posts-created},{posts-created},{tag-posts-share},{tag-rank}\n",
    "```\n",
    "where:\n",
    "- `{tag}` - single tag related to a post. For instance: `c#`\n",
    "- `{date}` - date in 'YYYY-MM' format. For example: '2008-07'\n",
    "- `{tag-activity}` - activity score for the `tag` and at `{date}`;\n",
    "- `{tag-total-activity}` - the cumulative activity score from the beginning up until `{date}`;\n",
    "- `{posts-created}` - the number of all posts created at `{date}`;\n",
    "- `{total-activity}` - the cumulative activity score from the beginning up until `{date}`;\n",
    "- `{tag-share}` - the percentage of activity related to the tag comparing to all activities. Calculated as `{tag-total-activity} / {total-activity} * 100`;\n",
    "- `{tag-rank}` - the rank of the `{tag}` based on `{tag-share}` in comparison to other tags at the same `{date}`;\n",
    "\n",
    "For example:\n",
    "```csv\n",
    "\n",
    "```"
   ]
  },
  {
   "cell_type": "code",
   "execution_count": 1,
   "id": "3a691bc3-8010-40c6-8006-aac75916b472",
   "metadata": {
    "ExecuteTime": {
     "end_time": "2024-03-24T08:09:49.270879Z",
     "start_time": "2024-03-24T08:09:49.201531Z"
    },
    "tags": []
   },
   "outputs": [],
   "source": [
    "import dask.dataframe as dd\n",
    "from config import get_file_path"
   ]
  },
  {
   "cell_type": "markdown",
   "id": "edc2f6c52b9b8545",
   "metadata": {},
   "source": [
    "#### Load data, show shape and sample"
   ]
  },
  {
   "cell_type": "code",
   "execution_count": 2,
   "id": "63b4957e-7962-496b-ad50-85c85eccaa0e",
   "metadata": {
    "ExecuteTime": {
     "end_time": "2024-03-24T08:09:49.323572Z",
     "start_time": "2024-03-24T08:09:49.211691Z"
    },
    "tags": []
   },
   "outputs": [
    {
     "data": {
      "text/html": [
       "<div>\n",
       "<style scoped>\n",
       "    .dataframe tbody tr th:only-of-type {\n",
       "        vertical-align: middle;\n",
       "    }\n",
       "\n",
       "    .dataframe tbody tr th {\n",
       "        vertical-align: top;\n",
       "    }\n",
       "\n",
       "    .dataframe thead th {\n",
       "        text-align: right;\n",
       "    }\n",
       "</style>\n",
       "<table border=\"1\" class=\"dataframe\">\n",
       "  <thead>\n",
       "    <tr style=\"text-align: right;\">\n",
       "      <th></th>\n",
       "      <th>Id</th>\n",
       "      <th>ActivityScore</th>\n",
       "      <th>CreationDate</th>\n",
       "      <th>Tag</th>\n",
       "    </tr>\n",
       "  </thead>\n",
       "  <tbody>\n",
       "    <tr>\n",
       "      <th>0</th>\n",
       "      <td>4</td>\n",
       "      <td>809</td>\n",
       "      <td>2008-07</td>\n",
       "      <td>c#</td>\n",
       "    </tr>\n",
       "    <tr>\n",
       "      <th>1</th>\n",
       "      <td>4</td>\n",
       "      <td>809</td>\n",
       "      <td>2008-07</td>\n",
       "      <td>floating-point</td>\n",
       "    </tr>\n",
       "    <tr>\n",
       "      <th>2</th>\n",
       "      <td>4</td>\n",
       "      <td>809</td>\n",
       "      <td>2008-07</td>\n",
       "      <td>type-conversion</td>\n",
       "    </tr>\n",
       "    <tr>\n",
       "      <th>3</th>\n",
       "      <td>4</td>\n",
       "      <td>809</td>\n",
       "      <td>2008-07</td>\n",
       "      <td>double</td>\n",
       "    </tr>\n",
       "    <tr>\n",
       "      <th>4</th>\n",
       "      <td>4</td>\n",
       "      <td>809</td>\n",
       "      <td>2008-07</td>\n",
       "      <td>decimal</td>\n",
       "    </tr>\n",
       "  </tbody>\n",
       "</table>\n",
       "</div>"
      ],
      "text/plain": [
       "   Id  ActivityScore CreationDate              Tag\n",
       "0   4            809      2008-07               c#\n",
       "1   4            809      2008-07   floating-point\n",
       "2   4            809      2008-07  type-conversion\n",
       "3   4            809      2008-07           double\n",
       "4   4            809      2008-07          decimal"
      ]
     },
     "execution_count": 2,
     "metadata": {},
     "output_type": "execute_result"
    }
   ],
   "source": [
    "posts_activity_tag_file_path = get_file_path(\"posts_activity_tag.csv/*\")\n",
    "posts_activity_tag_df = dd.read_csv(posts_activity_tag_file_path)\n",
    "posts_activity_tag_df.head()"
   ]
  },
  {
   "cell_type": "markdown",
   "id": "c7dfe04bcc983456",
   "metadata": {},
   "source": [
    "### Calculate activity score per tag and creation date."
   ]
  },
  {
   "cell_type": "code",
   "execution_count": 66,
   "id": "2c2c7ff1-26d4-4fdb-8705-19d702c05f52",
   "metadata": {
    "ExecuteTime": {
     "end_time": "2024-03-24T08:09:49.327126Z",
     "start_time": "2024-03-24T08:09:49.233378Z"
    },
    "tags": []
   },
   "outputs": [
    {
     "data": {
      "text/html": [
       "<div>\n",
       "<style scoped>\n",
       "    .dataframe tbody tr th:only-of-type {\n",
       "        vertical-align: middle;\n",
       "    }\n",
       "\n",
       "    .dataframe tbody tr th {\n",
       "        vertical-align: top;\n",
       "    }\n",
       "\n",
       "    .dataframe thead th {\n",
       "        text-align: right;\n",
       "    }\n",
       "</style>\n",
       "<table border=\"1\" class=\"dataframe\">\n",
       "  <thead>\n",
       "    <tr style=\"text-align: right;\">\n",
       "      <th></th>\n",
       "      <th>Tag</th>\n",
       "      <th>CreationDate</th>\n",
       "      <th>ActivityScore</th>\n",
       "    </tr>\n",
       "  </thead>\n",
       "  <tbody>\n",
       "    <tr>\n",
       "      <th>105340</th>\n",
       "      <td>.a</td>\n",
       "      <td>2010-01</td>\n",
       "      <td>361</td>\n",
       "    </tr>\n",
       "    <tr>\n",
       "      <th>155727</th>\n",
       "      <td>.a</td>\n",
       "      <td>2010-03</td>\n",
       "      <td>3</td>\n",
       "    </tr>\n",
       "    <tr>\n",
       "      <th>100215</th>\n",
       "      <td>.a</td>\n",
       "      <td>2010-04</td>\n",
       "      <td>70</td>\n",
       "    </tr>\n",
       "    <tr>\n",
       "      <th>159370</th>\n",
       "      <td>.a</td>\n",
       "      <td>2011-02</td>\n",
       "      <td>3</td>\n",
       "    </tr>\n",
       "    <tr>\n",
       "      <th>105364</th>\n",
       "      <td>.a</td>\n",
       "      <td>2011-05</td>\n",
       "      <td>18</td>\n",
       "    </tr>\n",
       "  </tbody>\n",
       "</table>\n",
       "</div>"
      ],
      "text/plain": [
       "       Tag CreationDate  ActivityScore\n",
       "105340  .a      2010-01            361\n",
       "155727  .a      2010-03              3\n",
       "100215  .a      2010-04             70\n",
       "159370  .a      2011-02              3\n",
       "105364  .a      2011-05             18"
      ]
     },
     "execution_count": 66,
     "metadata": {},
     "output_type": "execute_result"
    }
   ],
   "source": [
    "tag_date_activitity_score_df = posts_activity_tag_df.\\\n",
    "    groupby(['Tag', 'CreationDate'])['ActivityScore'].\\\n",
    "    sum().\\\n",
    "    rename('ActivityScore').\\\n",
    "    reset_index().\\\n",
    "    sort_values(by=['Tag', 'CreationDate'], ascending=True).\\\n",
    "    persist()\n",
    "tag_date_activitity_score_df.head()"
   ]
  },
  {
   "cell_type": "markdown",
   "id": "34fa8f94a55601e2",
   "metadata": {},
   "source": [
    "### Calculate cumulative activity score per tag and creation date."
   ]
  },
  {
   "cell_type": "code",
   "execution_count": 74,
   "id": "4acc2bed-f2aa-4e4e-bf18-09377c4dc9b3",
   "metadata": {
    "ExecuteTime": {
     "end_time": "2024-03-24T08:09:49.339497Z",
     "start_time": "2024-03-24T08:09:49.251353Z"
    },
    "tags": []
   },
   "outputs": [
    {
     "data": {
      "text/html": [
       "<div>\n",
       "<style scoped>\n",
       "    .dataframe tbody tr th:only-of-type {\n",
       "        vertical-align: middle;\n",
       "    }\n",
       "\n",
       "    .dataframe tbody tr th {\n",
       "        vertical-align: top;\n",
       "    }\n",
       "\n",
       "    .dataframe thead th {\n",
       "        text-align: right;\n",
       "    }\n",
       "</style>\n",
       "<table border=\"1\" class=\"dataframe\">\n",
       "  <thead>\n",
       "    <tr style=\"text-align: right;\">\n",
       "      <th></th>\n",
       "      <th>Tag</th>\n",
       "      <th>CreationDate</th>\n",
       "      <th>ActivityScore</th>\n",
       "      <th>TagTotalActivityScore</th>\n",
       "    </tr>\n",
       "  </thead>\n",
       "  <tbody>\n",
       "    <tr>\n",
       "      <th>105340</th>\n",
       "      <td>.a</td>\n",
       "      <td>2010-01</td>\n",
       "      <td>361</td>\n",
       "      <td>361</td>\n",
       "    </tr>\n",
       "    <tr>\n",
       "      <th>155727</th>\n",
       "      <td>.a</td>\n",
       "      <td>2010-03</td>\n",
       "      <td>3</td>\n",
       "      <td>364</td>\n",
       "    </tr>\n",
       "    <tr>\n",
       "      <th>100215</th>\n",
       "      <td>.a</td>\n",
       "      <td>2010-04</td>\n",
       "      <td>70</td>\n",
       "      <td>434</td>\n",
       "    </tr>\n",
       "    <tr>\n",
       "      <th>159370</th>\n",
       "      <td>.a</td>\n",
       "      <td>2011-02</td>\n",
       "      <td>3</td>\n",
       "      <td>437</td>\n",
       "    </tr>\n",
       "    <tr>\n",
       "      <th>105364</th>\n",
       "      <td>.a</td>\n",
       "      <td>2011-05</td>\n",
       "      <td>18</td>\n",
       "      <td>455</td>\n",
       "    </tr>\n",
       "  </tbody>\n",
       "</table>\n",
       "</div>"
      ],
      "text/plain": [
       "       Tag CreationDate  ActivityScore  TagTotalActivityScore\n",
       "105340  .a      2010-01            361                    361\n",
       "155727  .a      2010-03              3                    364\n",
       "100215  .a      2010-04             70                    434\n",
       "159370  .a      2011-02              3                    437\n",
       "105364  .a      2011-05             18                    455"
      ]
     },
     "execution_count": 74,
     "metadata": {},
     "output_type": "execute_result"
    }
   ],
   "source": [
    "tag_total_activitity_score_df = tag_date_activitity_score_df.sort_values(by=['Tag', 'CreationDate'], ascending=True).repartition(npartitions=1)\n",
    "tag_total_activitity_score_df['TagTotalActivityScore'] = tag_total_activitity_score_df.groupby('Tag')['ActivityScore'].cumsum()\n",
    "tag_total_activitity_score_df.sort_values(by=['Tag', 'CreationDate'], ascending=True).persist()\n",
    "tag_total_activitity_score_df.head()"
   ]
  },
  {
   "cell_type": "markdown",
   "id": "b6401fea2a1de275",
   "metadata": {},
   "source": [
    "### Calculate activity score per creation date."
   ]
  },
  {
   "cell_type": "code",
   "execution_count": 96,
   "id": "ceaee1a0-8e16-45b4-abbd-214051f5deb6",
   "metadata": {
    "ExecuteTime": {
     "end_time": "2024-03-24T08:09:49.342844Z",
     "start_time": "2024-03-24T08:09:49.268186Z"
    },
    "tags": []
   },
   "outputs": [
    {
     "data": {
      "text/html": [
       "<div>\n",
       "<style scoped>\n",
       "    .dataframe tbody tr th:only-of-type {\n",
       "        vertical-align: middle;\n",
       "    }\n",
       "\n",
       "    .dataframe tbody tr th {\n",
       "        vertical-align: top;\n",
       "    }\n",
       "\n",
       "    .dataframe thead th {\n",
       "        text-align: right;\n",
       "    }\n",
       "</style>\n",
       "<table border=\"1\" class=\"dataframe\">\n",
       "  <thead>\n",
       "    <tr style=\"text-align: right;\">\n",
       "      <th></th>\n",
       "      <th>CreationDate</th>\n",
       "      <th>ActivityScore</th>\n",
       "    </tr>\n",
       "  </thead>\n",
       "  <tbody>\n",
       "    <tr>\n",
       "      <th>188</th>\n",
       "      <td>2008-07</td>\n",
       "      <td>5932</td>\n",
       "    </tr>\n",
       "    <tr>\n",
       "      <th>167</th>\n",
       "      <td>2008-08</td>\n",
       "      <td>472624</td>\n",
       "    </tr>\n",
       "    <tr>\n",
       "      <th>171</th>\n",
       "      <td>2008-09</td>\n",
       "      <td>1866414</td>\n",
       "    </tr>\n",
       "    <tr>\n",
       "      <th>175</th>\n",
       "      <td>2008-10</td>\n",
       "      <td>1450211</td>\n",
       "    </tr>\n",
       "    <tr>\n",
       "      <th>179</th>\n",
       "      <td>2008-11</td>\n",
       "      <td>909101</td>\n",
       "    </tr>\n",
       "  </tbody>\n",
       "</table>\n",
       "</div>"
      ],
      "text/plain": [
       "    CreationDate  ActivityScore\n",
       "188      2008-07           5932\n",
       "167      2008-08         472624\n",
       "171      2008-09        1866414\n",
       "175      2008-10        1450211\n",
       "179      2008-11         909101"
      ]
     },
     "execution_count": 96,
     "metadata": {},
     "output_type": "execute_result"
    }
   ],
   "source": [
    "date_activity_score_df = posts_activity_tag_df.\\\n",
    "    groupby(['CreationDate', 'Id']).\\\n",
    "    agg({'ActivityScore': 'first'}).\\\n",
    "    reset_index()[['CreationDate', 'ActivityScore']].\\\n",
    "    groupby('CreationDate').\\\n",
    "    agg({'ActivityScore': 'sum'}).\\\n",
    "    reset_index().\\\n",
    "    sort_values(by=['CreationDate'], ascending=True).\\\n",
    "    persist()\n",
    "\n",
    "date_activity_score_df.head()"
   ]
  },
  {
   "cell_type": "markdown",
   "id": "e1ab0717-51a7-4403-bfdc-b311322fcb1d",
   "metadata": {
    "tags": []
   },
   "source": [
    "### Calculate cumulative activity score per creation date."
   ]
  },
  {
   "cell_type": "code",
   "execution_count": 101,
   "id": "35fd4419-d691-4385-a5b5-412cf4b8a047",
   "metadata": {
    "tags": []
   },
   "outputs": [
    {
     "data": {
      "text/html": [
       "<div>\n",
       "<style scoped>\n",
       "    .dataframe tbody tr th:only-of-type {\n",
       "        vertical-align: middle;\n",
       "    }\n",
       "\n",
       "    .dataframe tbody tr th {\n",
       "        vertical-align: top;\n",
       "    }\n",
       "\n",
       "    .dataframe thead th {\n",
       "        text-align: right;\n",
       "    }\n",
       "</style>\n",
       "<table border=\"1\" class=\"dataframe\">\n",
       "  <thead>\n",
       "    <tr style=\"text-align: right;\">\n",
       "      <th></th>\n",
       "      <th>CreationDate</th>\n",
       "      <th>ActivityScore</th>\n",
       "      <th>TotalActivityScore</th>\n",
       "    </tr>\n",
       "  </thead>\n",
       "  <tbody>\n",
       "    <tr>\n",
       "      <th>188</th>\n",
       "      <td>2008-07</td>\n",
       "      <td>5932</td>\n",
       "      <td>5932</td>\n",
       "    </tr>\n",
       "    <tr>\n",
       "      <th>167</th>\n",
       "      <td>2008-08</td>\n",
       "      <td>472624</td>\n",
       "      <td>478556</td>\n",
       "    </tr>\n",
       "    <tr>\n",
       "      <th>171</th>\n",
       "      <td>2008-09</td>\n",
       "      <td>1866414</td>\n",
       "      <td>2344970</td>\n",
       "    </tr>\n",
       "    <tr>\n",
       "      <th>175</th>\n",
       "      <td>2008-10</td>\n",
       "      <td>1450211</td>\n",
       "      <td>3795181</td>\n",
       "    </tr>\n",
       "    <tr>\n",
       "      <th>179</th>\n",
       "      <td>2008-11</td>\n",
       "      <td>909101</td>\n",
       "      <td>4704282</td>\n",
       "    </tr>\n",
       "  </tbody>\n",
       "</table>\n",
       "</div>"
      ],
      "text/plain": [
       "    CreationDate  ActivityScore  TotalActivityScore\n",
       "188      2008-07           5932                5932\n",
       "167      2008-08         472624              478556\n",
       "171      2008-09        1866414             2344970\n",
       "175      2008-10        1450211             3795181\n",
       "179      2008-11         909101             4704282"
      ]
     },
     "execution_count": 101,
     "metadata": {},
     "output_type": "execute_result"
    }
   ],
   "source": [
    "total_activitity_score_df = date_activity_score_df.sort_values(by=['CreationDate'], ascending=True)\n",
    "total_activitity_score_df['TotalActivityScore'] = total_activitity_score_df['ActivityScore'].cumsum()\n",
    "total_activitity_score_df.sort_values(by=['CreationDate'], ascending=True).persist()\n",
    "total_activitity_score_df.head()"
   ]
  },
  {
   "cell_type": "markdown",
   "id": "b508b700fa8b1679",
   "metadata": {},
   "source": [
    "### Join two dataframes to calculate tag trends"
   ]
  },
  {
   "cell_type": "code",
   "execution_count": 106,
   "id": "3cbd1e4f-1194-426f-af63-399e5afffe42",
   "metadata": {
    "ExecuteTime": {
     "end_time": "2024-03-24T08:09:49.343884Z",
     "start_time": "2024-03-24T08:09:49.295173Z"
    },
    "tags": []
   },
   "outputs": [
    {
     "data": {
      "text/html": [
       "<div>\n",
       "<style scoped>\n",
       "    .dataframe tbody tr th:only-of-type {\n",
       "        vertical-align: middle;\n",
       "    }\n",
       "\n",
       "    .dataframe tbody tr th {\n",
       "        vertical-align: top;\n",
       "    }\n",
       "\n",
       "    .dataframe thead th {\n",
       "        text-align: right;\n",
       "    }\n",
       "</style>\n",
       "<table border=\"1\" class=\"dataframe\">\n",
       "  <thead>\n",
       "    <tr style=\"text-align: right;\">\n",
       "      <th></th>\n",
       "      <th>Tag</th>\n",
       "      <th>CreationDate</th>\n",
       "      <th>TagTotalActivityScore</th>\n",
       "      <th>TotalActivityScore</th>\n",
       "    </tr>\n",
       "  </thead>\n",
       "  <tbody>\n",
       "    <tr>\n",
       "      <th>0</th>\n",
       "      <td>.a</td>\n",
       "      <td>2010-01</td>\n",
       "      <td>361</td>\n",
       "      <td>21380180</td>\n",
       "    </tr>\n",
       "    <tr>\n",
       "      <th>1</th>\n",
       "      <td>.a</td>\n",
       "      <td>2010-03</td>\n",
       "      <td>364</td>\n",
       "      <td>24298257</td>\n",
       "    </tr>\n",
       "    <tr>\n",
       "      <th>2</th>\n",
       "      <td>.a</td>\n",
       "      <td>2010-04</td>\n",
       "      <td>434</td>\n",
       "      <td>25736070</td>\n",
       "    </tr>\n",
       "    <tr>\n",
       "      <th>3</th>\n",
       "      <td>.a</td>\n",
       "      <td>2011-02</td>\n",
       "      <td>437</td>\n",
       "      <td>42108507</td>\n",
       "    </tr>\n",
       "    <tr>\n",
       "      <th>4</th>\n",
       "      <td>.a</td>\n",
       "      <td>2011-05</td>\n",
       "      <td>455</td>\n",
       "      <td>48750127</td>\n",
       "    </tr>\n",
       "  </tbody>\n",
       "</table>\n",
       "</div>"
      ],
      "text/plain": [
       "  Tag CreationDate  TagTotalActivityScore  TotalActivityScore\n",
       "0  .a      2010-01                    361            21380180\n",
       "1  .a      2010-03                    364            24298257\n",
       "2  .a      2010-04                    434            25736070\n",
       "3  .a      2011-02                    437            42108507\n",
       "4  .a      2011-05                    455            48750127"
      ]
     },
     "execution_count": 106,
     "metadata": {},
     "output_type": "execute_result"
    }
   ],
   "source": [
    "tag_trends_df = dd.merge(\n",
    "    tag_total_activitity_score_df,\n",
    "    total_activitity_score_df,\n",
    "    left_on='CreationDate',\n",
    "    right_on='CreationDate',\n",
    "    how='inner'\n",
    ")[['Tag', 'CreationDate', 'TagTotalActivityScore', 'TotalActivityScore']]\n",
    "tag_trends_df.head()"
   ]
  },
  {
   "cell_type": "markdown",
   "id": "ec8afd91e81263f4",
   "metadata": {},
   "source": [
    "### Calculate tag share"
   ]
  },
  {
   "cell_type": "code",
   "execution_count": 107,
   "id": "a5a29867-9b0a-4510-8d30-d72ffe9c24fa",
   "metadata": {
    "ExecuteTime": {
     "end_time": "2024-03-24T08:09:49.344170Z",
     "start_time": "2024-03-24T08:09:49.315502Z"
    },
    "tags": []
   },
   "outputs": [
    {
     "data": {
      "text/html": [
       "<div>\n",
       "<style scoped>\n",
       "    .dataframe tbody tr th:only-of-type {\n",
       "        vertical-align: middle;\n",
       "    }\n",
       "\n",
       "    .dataframe tbody tr th {\n",
       "        vertical-align: top;\n",
       "    }\n",
       "\n",
       "    .dataframe thead th {\n",
       "        text-align: right;\n",
       "    }\n",
       "</style>\n",
       "<table border=\"1\" class=\"dataframe\">\n",
       "  <thead>\n",
       "    <tr style=\"text-align: right;\">\n",
       "      <th></th>\n",
       "      <th>Tag</th>\n",
       "      <th>CreationDate</th>\n",
       "      <th>TagTotalActivityScore</th>\n",
       "      <th>TotalActivityScore</th>\n",
       "      <th>TagShare</th>\n",
       "    </tr>\n",
       "  </thead>\n",
       "  <tbody>\n",
       "    <tr>\n",
       "      <th>0</th>\n",
       "      <td>.a</td>\n",
       "      <td>2010-01</td>\n",
       "      <td>361</td>\n",
       "      <td>21380180</td>\n",
       "      <td>0.001688</td>\n",
       "    </tr>\n",
       "    <tr>\n",
       "      <th>1</th>\n",
       "      <td>.a</td>\n",
       "      <td>2010-03</td>\n",
       "      <td>364</td>\n",
       "      <td>24298257</td>\n",
       "      <td>0.001498</td>\n",
       "    </tr>\n",
       "    <tr>\n",
       "      <th>2</th>\n",
       "      <td>.a</td>\n",
       "      <td>2010-04</td>\n",
       "      <td>434</td>\n",
       "      <td>25736070</td>\n",
       "      <td>0.001686</td>\n",
       "    </tr>\n",
       "    <tr>\n",
       "      <th>3</th>\n",
       "      <td>.a</td>\n",
       "      <td>2011-02</td>\n",
       "      <td>437</td>\n",
       "      <td>42108507</td>\n",
       "      <td>0.001038</td>\n",
       "    </tr>\n",
       "    <tr>\n",
       "      <th>4</th>\n",
       "      <td>.a</td>\n",
       "      <td>2011-05</td>\n",
       "      <td>455</td>\n",
       "      <td>48750127</td>\n",
       "      <td>0.000933</td>\n",
       "    </tr>\n",
       "  </tbody>\n",
       "</table>\n",
       "</div>"
      ],
      "text/plain": [
       "  Tag CreationDate  TagTotalActivityScore  TotalActivityScore  TagShare\n",
       "0  .a      2010-01                    361            21380180  0.001688\n",
       "1  .a      2010-03                    364            24298257  0.001498\n",
       "2  .a      2010-04                    434            25736070  0.001686\n",
       "3  .a      2011-02                    437            42108507  0.001038\n",
       "4  .a      2011-05                    455            48750127  0.000933"
      ]
     },
     "execution_count": 107,
     "metadata": {},
     "output_type": "execute_result"
    }
   ],
   "source": [
    "tag_share_sequence = (tag_trends_df['TagTotalActivityScore'] / tag_trends_df['TotalActivityScore']) * 100\n",
    "tag_trends_df['TagShare'] = tag_share_sequence\n",
    "tag_trends_df.head()"
   ]
  },
  {
   "cell_type": "markdown",
   "id": "64146e970ad7d52",
   "metadata": {},
   "source": [
    "### Calculate tag rank"
   ]
  },
  {
   "cell_type": "code",
   "execution_count": 114,
   "id": "770d2826-193a-49b3-923c-9568752ad7d9",
   "metadata": {
    "ExecuteTime": {
     "end_time": "2024-03-24T08:09:49.431675Z",
     "start_time": "2024-03-24T08:09:49.337141Z"
    },
    "tags": []
   },
   "outputs": [
    {
     "data": {
      "text/html": [
       "<div>\n",
       "<style scoped>\n",
       "    .dataframe tbody tr th:only-of-type {\n",
       "        vertical-align: middle;\n",
       "    }\n",
       "\n",
       "    .dataframe tbody tr th {\n",
       "        vertical-align: top;\n",
       "    }\n",
       "\n",
       "    .dataframe thead th {\n",
       "        text-align: right;\n",
       "    }\n",
       "</style>\n",
       "<table border=\"1\" class=\"dataframe\">\n",
       "  <thead>\n",
       "    <tr style=\"text-align: right;\">\n",
       "      <th></th>\n",
       "      <th>Tag</th>\n",
       "      <th>CreationDate</th>\n",
       "      <th>TagTotalActivityScore</th>\n",
       "      <th>TotalActivityScore</th>\n",
       "      <th>TagShare</th>\n",
       "      <th>TagRank</th>\n",
       "    </tr>\n",
       "  </thead>\n",
       "  <tbody>\n",
       "    <tr>\n",
       "      <th>0</th>\n",
       "      <td>.a</td>\n",
       "      <td>2010-01</td>\n",
       "      <td>361</td>\n",
       "      <td>21380180</td>\n",
       "      <td>0.001688</td>\n",
       "      <td>4884.0</td>\n",
       "    </tr>\n",
       "    <tr>\n",
       "      <th>1</th>\n",
       "      <td>.a</td>\n",
       "      <td>2010-03</td>\n",
       "      <td>364</td>\n",
       "      <td>24298257</td>\n",
       "      <td>0.001498</td>\n",
       "      <td>5359.0</td>\n",
       "    </tr>\n",
       "    <tr>\n",
       "      <th>2</th>\n",
       "      <td>.a</td>\n",
       "      <td>2010-04</td>\n",
       "      <td>434</td>\n",
       "      <td>25736070</td>\n",
       "      <td>0.001686</td>\n",
       "      <td>5143.0</td>\n",
       "    </tr>\n",
       "    <tr>\n",
       "      <th>3</th>\n",
       "      <td>.a</td>\n",
       "      <td>2011-02</td>\n",
       "      <td>437</td>\n",
       "      <td>42108507</td>\n",
       "      <td>0.001038</td>\n",
       "      <td>7263.0</td>\n",
       "    </tr>\n",
       "    <tr>\n",
       "      <th>4</th>\n",
       "      <td>.a</td>\n",
       "      <td>2011-05</td>\n",
       "      <td>455</td>\n",
       "      <td>48750127</td>\n",
       "      <td>0.000933</td>\n",
       "      <td>7923.0</td>\n",
       "    </tr>\n",
       "    <tr>\n",
       "      <th>...</th>\n",
       "      <td>...</td>\n",
       "      <td>...</td>\n",
       "      <td>...</td>\n",
       "      <td>...</td>\n",
       "      <td>...</td>\n",
       "      <td>...</td>\n",
       "    </tr>\n",
       "    <tr>\n",
       "      <th>3650769</th>\n",
       "      <td>zyte</td>\n",
       "      <td>2023-06</td>\n",
       "      <td>90</td>\n",
       "      <td>297998257</td>\n",
       "      <td>0.000030</td>\n",
       "      <td>20458.0</td>\n",
       "    </tr>\n",
       "    <tr>\n",
       "      <th>3650770</th>\n",
       "      <td>zyte</td>\n",
       "      <td>2023-09</td>\n",
       "      <td>91</td>\n",
       "      <td>299232836</td>\n",
       "      <td>0.000030</td>\n",
       "      <td>19269.0</td>\n",
       "    </tr>\n",
       "    <tr>\n",
       "      <th>3650771</th>\n",
       "      <td>zyte</td>\n",
       "      <td>2023-12</td>\n",
       "      <td>100</td>\n",
       "      <td>300234127</td>\n",
       "      <td>0.000033</td>\n",
       "      <td>18045.0</td>\n",
       "    </tr>\n",
       "    <tr>\n",
       "      <th>3650772</th>\n",
       "      <td>zyte</td>\n",
       "      <td>2024-01</td>\n",
       "      <td>104</td>\n",
       "      <td>300559060</td>\n",
       "      <td>0.000035</td>\n",
       "      <td>18872.0</td>\n",
       "    </tr>\n",
       "    <tr>\n",
       "      <th>3650773</th>\n",
       "      <td>zyte</td>\n",
       "      <td>2024-02</td>\n",
       "      <td>108</td>\n",
       "      <td>300873863</td>\n",
       "      <td>0.000036</td>\n",
       "      <td>19268.0</td>\n",
       "    </tr>\n",
       "  </tbody>\n",
       "</table>\n",
       "<p>3650774 rows × 6 columns</p>\n",
       "</div>"
      ],
      "text/plain": [
       "          Tag CreationDate  TagTotalActivityScore  TotalActivityScore  \\\n",
       "0          .a      2010-01                    361            21380180   \n",
       "1          .a      2010-03                    364            24298257   \n",
       "2          .a      2010-04                    434            25736070   \n",
       "3          .a      2011-02                    437            42108507   \n",
       "4          .a      2011-05                    455            48750127   \n",
       "...       ...          ...                    ...                 ...   \n",
       "3650769  zyte      2023-06                     90           297998257   \n",
       "3650770  zyte      2023-09                     91           299232836   \n",
       "3650771  zyte      2023-12                    100           300234127   \n",
       "3650772  zyte      2024-01                    104           300559060   \n",
       "3650773  zyte      2024-02                    108           300873863   \n",
       "\n",
       "         TagShare  TagRank  \n",
       "0        0.001688   4884.0  \n",
       "1        0.001498   5359.0  \n",
       "2        0.001686   5143.0  \n",
       "3        0.001038   7263.0  \n",
       "4        0.000933   7923.0  \n",
       "...           ...      ...  \n",
       "3650769  0.000030  20458.0  \n",
       "3650770  0.000030  19269.0  \n",
       "3650771  0.000033  18045.0  \n",
       "3650772  0.000035  18872.0  \n",
       "3650773  0.000036  19268.0  \n",
       "\n",
       "[3650774 rows x 6 columns]"
      ]
     },
     "execution_count": 114,
     "metadata": {},
     "output_type": "execute_result"
    }
   ],
   "source": [
    "tag_trends_pd_df = tag_trends_df.compute()\n",
    "\n",
    "tag_rank_sequence = tag_trends_pd_df.groupby(\"CreationDate\")[\"TagShare\"].rank(method=\"first\", ascending=False)\n",
    "tag_trends_pd_df = tag_trends_pd_df.assign(TagRank=tag_rank_sequence)\n",
    "tag_trends_pd_df"
   ]
  },
  {
   "cell_type": "markdown",
   "id": "34e9efa13f00c4b1",
   "metadata": {},
   "source": [
    "### Save\n",
    "Save final dataframe as intermediate result"
   ]
  },
  {
   "cell_type": "code",
   "execution_count": 115,
   "id": "4fbc2ac0-4bf6-4972-83d9-f6a1c281989d",
   "metadata": {
    "ExecuteTime": {
     "end_time": "2024-03-24T08:09:49.498628Z",
     "start_time": "2024-03-24T08:09:49.362027Z"
    },
    "tags": []
   },
   "outputs": [],
   "source": [
    "tag_trends_file_path = get_file_path('tag_trends.csv')\n",
    "tag_trends_pd_df.to_csv(tag_trends_file_path, index=False)"
   ]
  },
  {
   "cell_type": "code",
   "execution_count": 44,
   "id": "f6879e2b",
   "metadata": {
    "ExecuteTime": {
     "end_time": "2024-03-24T08:09:49.563354Z",
     "start_time": "2024-03-24T08:09:49.375776Z"
    },
    "collapsed": false,
    "jupyter": {
     "outputs_hidden": false
    }
   },
   "outputs": [],
   "source": []
  }
 ],
 "metadata": {
  "environment": {
   "kernel": "conda-root-py",
   "name": "workbench-notebooks.m118",
   "type": "gcloud",
   "uri": "us-docker.pkg.dev/deeplearning-platform-release/gcr.io/workbench-notebooks:m118"
  },
  "kernelspec": {
   "display_name": "Python 3 (ipykernel)",
   "language": "python",
   "name": "conda-root-py"
  },
  "language_info": {
   "codemirror_mode": {
    "name": "ipython",
    "version": 3
   },
   "file_extension": ".py",
   "mimetype": "text/x-python",
   "name": "python",
   "nbconvert_exporter": "python",
   "pygments_lexer": "ipython3",
   "version": "3.10.13"
  }
 },
 "nbformat": 4,
 "nbformat_minor": 5
}
