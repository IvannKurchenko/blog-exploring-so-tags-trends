{
 "cells": [
  {
   "cell_type": "markdown",
   "source": [
    "## Notebook to calculate posts creation trends for tag\n",
    "\n",
    "### Description\n",
    "This notebook calculate basic trends data like tag rank based on the number of posts created up until certain date.\n",
    "\n",
    "### Input \n",
    "This notebook takes as an input `posts_tag.csv` file, produced by the previous step.\n",
    "\n",
    "### Output\n",
    "As an output this notebook produces `posts_creation_trends.csv` file with the following format:\n",
    "```\n",
    "Tag,CreationDate,TagPostsCreated,TagTotalPostsCreated,PostsCreated,TotalPostsCreated,TagPostsShare,TagRank\n",
    "{tag},{creation-date},{tag-posts-created},{tag-total-posts-created},{posts-created},{tag-posts-share},{tag-rank}\n",
    "```\n",
    "where:\n",
    "- `{tag}` - single tag related to a post. For instance: `c#`\n",
    "- `{creation-date}` - post creation in 'YYYY-MM' format. For example: '2008-07'\n",
    "- `{tag-posts-created}` - the number of posts created with that tag and at `{creation-date}`;\n",
    "- `{tag-total-posts-created}` - the cumulative number of posts created with that tag from the beginning up until `{creation-date}`;\n",
    "- `{posts-created}` - the number of all posts created at `{creation-date}`;\n",
    "- `{total-posts-created}` - the cumulative number of posts created from the beginning up until `{creation-date}`;\n",
    "- `{tag-posts-share}` - the percentage of posts created with that tag comparing to all posts. Calculated as `{tag-total-posts-created} / {total-posts-created} * 100`;\n",
    "- `{tag-rank}` - the rank of the `{tag}` based on `{tag-posts-share}` in comparison to other tags at the same `{creation-date}`;\n",
    "\n",
    "For example:\n",
    "```csv\n",
    "Tag,CreationDate,TagPostsCreated,TagTotalPostsCreated,PostsCreated,TotalPostsCreated,TagPostsShare,TagRank\n",
    ".a,2010-01,4,4.0,145866,1560787.0,0.00025628096594858875,9138.0\n",
    ".a,2010-03,2,6.0,160711,1862493.0,0.00032214886176753414,9492.0\n",
    ".a,2010-04,5,11.0,150604,2013097.0,0.0005464217571234769,8539.0\n",
    ".a,2011-02,1,12.0,236699,3929356.0,0.00030539355558519004,11605.0\n",
    ".a,2011-05,4,16.0,281657,4772127.0,0.00033528026391585974,12028.0\n",
    ".a,2011-06,6,22.0,279544,5051671.0,0.00043549946146532504,11475.0\n",
    ".a,2011-07,6,28.0,281125,5332796.0,0.0005250528990795823,11020.0\n",
    ".a,2011-08,4,32.0,298765,5631561.0,0.0005682261099542382,10858.0\n",
    ".a,2012-01,2,34.0,317368,7082831.0,0.00048003404288482954,11856.0\n",
    "```"
   ],
   "metadata": {
    "collapsed": false
   },
   "id": "54b98b5f40b260b6"
  },
  {
   "cell_type": "code",
   "execution_count": 35,
   "id": "3a691bc3-8010-40c6-8006-aac75916b472",
   "metadata": {
    "ExecuteTime": {
     "end_time": "2024-03-24T08:09:49.270879Z",
     "start_time": "2024-03-24T08:09:49.201531Z"
    }
   },
   "outputs": [],
   "source": [
    "import pandas as pd\n",
    "from config import get_file_path"
   ]
  },
  {
   "cell_type": "markdown",
   "source": [
    "#### Load data, show shape and sample"
   ],
   "metadata": {
    "collapsed": false
   },
   "id": "edc2f6c52b9b8545"
  },
  {
   "cell_type": "code",
   "execution_count": 36,
   "id": "63b4957e-7962-496b-ad50-85c85eccaa0e",
   "metadata": {
    "tags": [],
    "ExecuteTime": {
     "end_time": "2024-03-24T08:09:49.323572Z",
     "start_time": "2024-03-24T08:09:49.211691Z"
    }
   },
   "outputs": [
    {
     "data": {
      "text/plain": "        Id CreationDate Tag\n0        1      2020-01   a\n1        2      2020-01   a\n2        3      2020-01   a\n3        4      2020-01   a\n4        5      2020-01   a\n...    ...          ...  ..\n3595  3596      2021-12   c\n3596  3597      2021-12   c\n3597  3598      2021-12   c\n3598  3599      2021-12   c\n3599  3600      2021-12   c\n\n[3600 rows x 3 columns]",
      "text/html": "<div>\n<style scoped>\n    .dataframe tbody tr th:only-of-type {\n        vertical-align: middle;\n    }\n\n    .dataframe tbody tr th {\n        vertical-align: top;\n    }\n\n    .dataframe thead th {\n        text-align: right;\n    }\n</style>\n<table border=\"1\" class=\"dataframe\">\n  <thead>\n    <tr style=\"text-align: right;\">\n      <th></th>\n      <th>Id</th>\n      <th>CreationDate</th>\n      <th>Tag</th>\n    </tr>\n  </thead>\n  <tbody>\n    <tr>\n      <th>0</th>\n      <td>1</td>\n      <td>2020-01</td>\n      <td>a</td>\n    </tr>\n    <tr>\n      <th>1</th>\n      <td>2</td>\n      <td>2020-01</td>\n      <td>a</td>\n    </tr>\n    <tr>\n      <th>2</th>\n      <td>3</td>\n      <td>2020-01</td>\n      <td>a</td>\n    </tr>\n    <tr>\n      <th>3</th>\n      <td>4</td>\n      <td>2020-01</td>\n      <td>a</td>\n    </tr>\n    <tr>\n      <th>4</th>\n      <td>5</td>\n      <td>2020-01</td>\n      <td>a</td>\n    </tr>\n    <tr>\n      <th>...</th>\n      <td>...</td>\n      <td>...</td>\n      <td>...</td>\n    </tr>\n    <tr>\n      <th>3595</th>\n      <td>3596</td>\n      <td>2021-12</td>\n      <td>c</td>\n    </tr>\n    <tr>\n      <th>3596</th>\n      <td>3597</td>\n      <td>2021-12</td>\n      <td>c</td>\n    </tr>\n    <tr>\n      <th>3597</th>\n      <td>3598</td>\n      <td>2021-12</td>\n      <td>c</td>\n    </tr>\n    <tr>\n      <th>3598</th>\n      <td>3599</td>\n      <td>2021-12</td>\n      <td>c</td>\n    </tr>\n    <tr>\n      <th>3599</th>\n      <td>3600</td>\n      <td>2021-12</td>\n      <td>c</td>\n    </tr>\n  </tbody>\n</table>\n<p>3600 rows × 3 columns</p>\n</div>"
     },
     "execution_count": 36,
     "metadata": {},
     "output_type": "execute_result"
    }
   ],
   "source": [
    "posts_tag_file_path = get_file_path(\"posts_tag.csv\")\n",
    "posts_tag_df = pd.read_csv(posts_tag_file_path)\n",
    "posts_tag_df"
   ]
  },
  {
   "cell_type": "markdown",
   "source": [
    "### Calculate the number of posts per tag and creation date."
   ],
   "metadata": {
    "collapsed": false
   },
   "id": "c7dfe04bcc983456"
  },
  {
   "cell_type": "code",
   "execution_count": 37,
   "id": "2c2c7ff1-26d4-4fdb-8705-19d702c05f52",
   "metadata": {
    "tags": [],
    "ExecuteTime": {
     "end_time": "2024-03-24T08:09:49.327126Z",
     "start_time": "2024-03-24T08:09:49.233378Z"
    }
   },
   "outputs": [
    {
     "data": {
      "text/plain": "   Tag CreationDate  TagPostsCreated\n0    a      2020-01               10\n1    a      2020-02               10\n2    a      2020-03               10\n3    a      2020-04               10\n4    a      2020-05               10\n..  ..          ...              ...\n67   c      2021-08               40\n68   c      2021-09               40\n69   c      2021-10               40\n70   c      2021-11               40\n71   c      2021-12               40\n\n[72 rows x 3 columns]",
      "text/html": "<div>\n<style scoped>\n    .dataframe tbody tr th:only-of-type {\n        vertical-align: middle;\n    }\n\n    .dataframe tbody tr th {\n        vertical-align: top;\n    }\n\n    .dataframe thead th {\n        text-align: right;\n    }\n</style>\n<table border=\"1\" class=\"dataframe\">\n  <thead>\n    <tr style=\"text-align: right;\">\n      <th></th>\n      <th>Tag</th>\n      <th>CreationDate</th>\n      <th>TagPostsCreated</th>\n    </tr>\n  </thead>\n  <tbody>\n    <tr>\n      <th>0</th>\n      <td>a</td>\n      <td>2020-01</td>\n      <td>10</td>\n    </tr>\n    <tr>\n      <th>1</th>\n      <td>a</td>\n      <td>2020-02</td>\n      <td>10</td>\n    </tr>\n    <tr>\n      <th>2</th>\n      <td>a</td>\n      <td>2020-03</td>\n      <td>10</td>\n    </tr>\n    <tr>\n      <th>3</th>\n      <td>a</td>\n      <td>2020-04</td>\n      <td>10</td>\n    </tr>\n    <tr>\n      <th>4</th>\n      <td>a</td>\n      <td>2020-05</td>\n      <td>10</td>\n    </tr>\n    <tr>\n      <th>...</th>\n      <td>...</td>\n      <td>...</td>\n      <td>...</td>\n    </tr>\n    <tr>\n      <th>67</th>\n      <td>c</td>\n      <td>2021-08</td>\n      <td>40</td>\n    </tr>\n    <tr>\n      <th>68</th>\n      <td>c</td>\n      <td>2021-09</td>\n      <td>40</td>\n    </tr>\n    <tr>\n      <th>69</th>\n      <td>c</td>\n      <td>2021-10</td>\n      <td>40</td>\n    </tr>\n    <tr>\n      <th>70</th>\n      <td>c</td>\n      <td>2021-11</td>\n      <td>40</td>\n    </tr>\n    <tr>\n      <th>71</th>\n      <td>c</td>\n      <td>2021-12</td>\n      <td>40</td>\n    </tr>\n  </tbody>\n</table>\n<p>72 rows × 3 columns</p>\n</div>"
     },
     "execution_count": 37,
     "metadata": {},
     "output_type": "execute_result"
    }
   ],
   "source": [
    "tag_posts_created_df = posts_tag_df.\\\n",
    "    groupby(['Tag', 'CreationDate'])['Id'].\\\n",
    "    nunique().\\\n",
    "    rename({'Count': 'TagPostsCreated'}).\\\n",
    "    reset_index(name='TagPostsCreated').\\\n",
    "    sort_values(by=['Tag', 'CreationDate'])\n",
    "tag_posts_created_df"
   ]
  },
  {
   "cell_type": "markdown",
   "source": [
    "### Calculate the cumulative number of posts per tag and creation date."
   ],
   "metadata": {
    "collapsed": false
   },
   "id": "34fa8f94a55601e2"
  },
  {
   "cell_type": "code",
   "execution_count": 38,
   "id": "4acc2bed-f2aa-4e4e-bf18-09377c4dc9b3",
   "metadata": {
    "tags": [],
    "ExecuteTime": {
     "end_time": "2024-03-24T08:09:49.339497Z",
     "start_time": "2024-03-24T08:09:49.251353Z"
    }
   },
   "outputs": [
    {
     "data": {
      "text/plain": "   Tag CreationDate  TagPostsCreated  TagTotalPostsCreated\n0    a      2020-01               10                  10.0\n1    a      2020-02               10                  20.0\n2    a      2020-03               10                  30.0\n3    a      2020-04               10                  40.0\n4    a      2020-05               10                  50.0\n..  ..          ...              ...                   ...\n67   c      2021-08               40                1040.0\n68   c      2021-09               40                1080.0\n69   c      2021-10               40                1120.0\n70   c      2021-11               40                1160.0\n71   c      2021-12               40                1200.0\n\n[72 rows x 4 columns]",
      "text/html": "<div>\n<style scoped>\n    .dataframe tbody tr th:only-of-type {\n        vertical-align: middle;\n    }\n\n    .dataframe tbody tr th {\n        vertical-align: top;\n    }\n\n    .dataframe thead th {\n        text-align: right;\n    }\n</style>\n<table border=\"1\" class=\"dataframe\">\n  <thead>\n    <tr style=\"text-align: right;\">\n      <th></th>\n      <th>Tag</th>\n      <th>CreationDate</th>\n      <th>TagPostsCreated</th>\n      <th>TagTotalPostsCreated</th>\n    </tr>\n  </thead>\n  <tbody>\n    <tr>\n      <th>0</th>\n      <td>a</td>\n      <td>2020-01</td>\n      <td>10</td>\n      <td>10.0</td>\n    </tr>\n    <tr>\n      <th>1</th>\n      <td>a</td>\n      <td>2020-02</td>\n      <td>10</td>\n      <td>20.0</td>\n    </tr>\n    <tr>\n      <th>2</th>\n      <td>a</td>\n      <td>2020-03</td>\n      <td>10</td>\n      <td>30.0</td>\n    </tr>\n    <tr>\n      <th>3</th>\n      <td>a</td>\n      <td>2020-04</td>\n      <td>10</td>\n      <td>40.0</td>\n    </tr>\n    <tr>\n      <th>4</th>\n      <td>a</td>\n      <td>2020-05</td>\n      <td>10</td>\n      <td>50.0</td>\n    </tr>\n    <tr>\n      <th>...</th>\n      <td>...</td>\n      <td>...</td>\n      <td>...</td>\n      <td>...</td>\n    </tr>\n    <tr>\n      <th>67</th>\n      <td>c</td>\n      <td>2021-08</td>\n      <td>40</td>\n      <td>1040.0</td>\n    </tr>\n    <tr>\n      <th>68</th>\n      <td>c</td>\n      <td>2021-09</td>\n      <td>40</td>\n      <td>1080.0</td>\n    </tr>\n    <tr>\n      <th>69</th>\n      <td>c</td>\n      <td>2021-10</td>\n      <td>40</td>\n      <td>1120.0</td>\n    </tr>\n    <tr>\n      <th>70</th>\n      <td>c</td>\n      <td>2021-11</td>\n      <td>40</td>\n      <td>1160.0</td>\n    </tr>\n    <tr>\n      <th>71</th>\n      <td>c</td>\n      <td>2021-12</td>\n      <td>40</td>\n      <td>1200.0</td>\n    </tr>\n  </tbody>\n</table>\n<p>72 rows × 4 columns</p>\n</div>"
     },
     "execution_count": 38,
     "metadata": {},
     "output_type": "execute_result"
    }
   ],
   "source": [
    "tag_total_posts_created_sequence = tag_posts_created_df.groupby('Tag')['TagPostsCreated']. \\\n",
    "    expanding(). \\\n",
    "    sum(). \\\n",
    "    reset_index(level=0, drop=True)\n",
    "\n",
    "tag_total_posts_created_df = tag_posts_created_df.assign(TagTotalPostsCreated=tag_total_posts_created_sequence)\n",
    "tag_total_posts_created_df"
   ]
  },
  {
   "cell_type": "markdown",
   "source": [
    "### Calculate the number of posts per creation date."
   ],
   "metadata": {
    "collapsed": false
   },
   "id": "b6401fea2a1de275"
  },
  {
   "cell_type": "code",
   "execution_count": 39,
   "id": "ceaee1a0-8e16-45b4-abbd-214051f5deb6",
   "metadata": {
    "tags": [],
    "ExecuteTime": {
     "end_time": "2024-03-24T08:09:49.342844Z",
     "start_time": "2024-03-24T08:09:49.268186Z"
    }
   },
   "outputs": [
    {
     "data": {
      "text/plain": "   CreationDate  PostsCreated\n0       2020-01           100\n1       2020-02           100\n2       2020-03           100\n3       2020-04           100\n4       2020-05           100\n5       2020-06           100\n6       2020-07           100\n7       2020-08           100\n8       2020-09           100\n9       2020-10           100\n10      2020-11           100\n11      2020-12           100\n12      2021-01           200\n13      2021-02           200\n14      2021-03           200\n15      2021-04           200\n16      2021-05           200\n17      2021-06           200\n18      2021-07           200\n19      2021-08           200\n20      2021-09           200\n21      2021-10           200\n22      2021-11           200\n23      2021-12           200",
      "text/html": "<div>\n<style scoped>\n    .dataframe tbody tr th:only-of-type {\n        vertical-align: middle;\n    }\n\n    .dataframe tbody tr th {\n        vertical-align: top;\n    }\n\n    .dataframe thead th {\n        text-align: right;\n    }\n</style>\n<table border=\"1\" class=\"dataframe\">\n  <thead>\n    <tr style=\"text-align: right;\">\n      <th></th>\n      <th>CreationDate</th>\n      <th>PostsCreated</th>\n    </tr>\n  </thead>\n  <tbody>\n    <tr>\n      <th>0</th>\n      <td>2020-01</td>\n      <td>100</td>\n    </tr>\n    <tr>\n      <th>1</th>\n      <td>2020-02</td>\n      <td>100</td>\n    </tr>\n    <tr>\n      <th>2</th>\n      <td>2020-03</td>\n      <td>100</td>\n    </tr>\n    <tr>\n      <th>3</th>\n      <td>2020-04</td>\n      <td>100</td>\n    </tr>\n    <tr>\n      <th>4</th>\n      <td>2020-05</td>\n      <td>100</td>\n    </tr>\n    <tr>\n      <th>5</th>\n      <td>2020-06</td>\n      <td>100</td>\n    </tr>\n    <tr>\n      <th>6</th>\n      <td>2020-07</td>\n      <td>100</td>\n    </tr>\n    <tr>\n      <th>7</th>\n      <td>2020-08</td>\n      <td>100</td>\n    </tr>\n    <tr>\n      <th>8</th>\n      <td>2020-09</td>\n      <td>100</td>\n    </tr>\n    <tr>\n      <th>9</th>\n      <td>2020-10</td>\n      <td>100</td>\n    </tr>\n    <tr>\n      <th>10</th>\n      <td>2020-11</td>\n      <td>100</td>\n    </tr>\n    <tr>\n      <th>11</th>\n      <td>2020-12</td>\n      <td>100</td>\n    </tr>\n    <tr>\n      <th>12</th>\n      <td>2021-01</td>\n      <td>200</td>\n    </tr>\n    <tr>\n      <th>13</th>\n      <td>2021-02</td>\n      <td>200</td>\n    </tr>\n    <tr>\n      <th>14</th>\n      <td>2021-03</td>\n      <td>200</td>\n    </tr>\n    <tr>\n      <th>15</th>\n      <td>2021-04</td>\n      <td>200</td>\n    </tr>\n    <tr>\n      <th>16</th>\n      <td>2021-05</td>\n      <td>200</td>\n    </tr>\n    <tr>\n      <th>17</th>\n      <td>2021-06</td>\n      <td>200</td>\n    </tr>\n    <tr>\n      <th>18</th>\n      <td>2021-07</td>\n      <td>200</td>\n    </tr>\n    <tr>\n      <th>19</th>\n      <td>2021-08</td>\n      <td>200</td>\n    </tr>\n    <tr>\n      <th>20</th>\n      <td>2021-09</td>\n      <td>200</td>\n    </tr>\n    <tr>\n      <th>21</th>\n      <td>2021-10</td>\n      <td>200</td>\n    </tr>\n    <tr>\n      <th>22</th>\n      <td>2021-11</td>\n      <td>200</td>\n    </tr>\n    <tr>\n      <th>23</th>\n      <td>2021-12</td>\n      <td>200</td>\n    </tr>\n  </tbody>\n</table>\n</div>"
     },
     "execution_count": 39,
     "metadata": {},
     "output_type": "execute_result"
    }
   ],
   "source": [
    "posts_created_df = posts_tag_df.\\\n",
    "    groupby(['CreationDate'])['Id'].\\\n",
    "    nunique(). \\\n",
    "    rename({'Count': 'PostsCreated'}). \\\n",
    "    reset_index(name='PostsCreated'). \\\n",
    "    sort_values(by=['CreationDate'])\n",
    "posts_created_df"
   ]
  },
  {
   "cell_type": "markdown",
   "source": [
    "### Calculate the cumulative number of posts per creation date."
   ],
   "metadata": {
    "collapsed": false
   },
   "id": "b2529fbfc94d8f4c"
  },
  {
   "cell_type": "code",
   "execution_count": 40,
   "id": "672294fc-48fa-4838-9cf2-246cabf9249e",
   "metadata": {
    "tags": [],
    "ExecuteTime": {
     "end_time": "2024-03-24T08:09:49.343256Z",
     "start_time": "2024-03-24T08:09:49.280961Z"
    }
   },
   "outputs": [
    {
     "data": {
      "text/plain": "   CreationDate  PostsCreated  TotalPostsCreated\n0       2020-01           100              100.0\n1       2020-02           100              200.0\n2       2020-03           100              300.0\n3       2020-04           100              400.0\n4       2020-05           100              500.0\n5       2020-06           100              600.0\n6       2020-07           100              700.0\n7       2020-08           100              800.0\n8       2020-09           100              900.0\n9       2020-10           100             1000.0\n10      2020-11           100             1100.0\n11      2020-12           100             1200.0\n12      2021-01           200             1400.0\n13      2021-02           200             1600.0\n14      2021-03           200             1800.0\n15      2021-04           200             2000.0\n16      2021-05           200             2200.0\n17      2021-06           200             2400.0\n18      2021-07           200             2600.0\n19      2021-08           200             2800.0\n20      2021-09           200             3000.0\n21      2021-10           200             3200.0\n22      2021-11           200             3400.0\n23      2021-12           200             3600.0",
      "text/html": "<div>\n<style scoped>\n    .dataframe tbody tr th:only-of-type {\n        vertical-align: middle;\n    }\n\n    .dataframe tbody tr th {\n        vertical-align: top;\n    }\n\n    .dataframe thead th {\n        text-align: right;\n    }\n</style>\n<table border=\"1\" class=\"dataframe\">\n  <thead>\n    <tr style=\"text-align: right;\">\n      <th></th>\n      <th>CreationDate</th>\n      <th>PostsCreated</th>\n      <th>TotalPostsCreated</th>\n    </tr>\n  </thead>\n  <tbody>\n    <tr>\n      <th>0</th>\n      <td>2020-01</td>\n      <td>100</td>\n      <td>100.0</td>\n    </tr>\n    <tr>\n      <th>1</th>\n      <td>2020-02</td>\n      <td>100</td>\n      <td>200.0</td>\n    </tr>\n    <tr>\n      <th>2</th>\n      <td>2020-03</td>\n      <td>100</td>\n      <td>300.0</td>\n    </tr>\n    <tr>\n      <th>3</th>\n      <td>2020-04</td>\n      <td>100</td>\n      <td>400.0</td>\n    </tr>\n    <tr>\n      <th>4</th>\n      <td>2020-05</td>\n      <td>100</td>\n      <td>500.0</td>\n    </tr>\n    <tr>\n      <th>5</th>\n      <td>2020-06</td>\n      <td>100</td>\n      <td>600.0</td>\n    </tr>\n    <tr>\n      <th>6</th>\n      <td>2020-07</td>\n      <td>100</td>\n      <td>700.0</td>\n    </tr>\n    <tr>\n      <th>7</th>\n      <td>2020-08</td>\n      <td>100</td>\n      <td>800.0</td>\n    </tr>\n    <tr>\n      <th>8</th>\n      <td>2020-09</td>\n      <td>100</td>\n      <td>900.0</td>\n    </tr>\n    <tr>\n      <th>9</th>\n      <td>2020-10</td>\n      <td>100</td>\n      <td>1000.0</td>\n    </tr>\n    <tr>\n      <th>10</th>\n      <td>2020-11</td>\n      <td>100</td>\n      <td>1100.0</td>\n    </tr>\n    <tr>\n      <th>11</th>\n      <td>2020-12</td>\n      <td>100</td>\n      <td>1200.0</td>\n    </tr>\n    <tr>\n      <th>12</th>\n      <td>2021-01</td>\n      <td>200</td>\n      <td>1400.0</td>\n    </tr>\n    <tr>\n      <th>13</th>\n      <td>2021-02</td>\n      <td>200</td>\n      <td>1600.0</td>\n    </tr>\n    <tr>\n      <th>14</th>\n      <td>2021-03</td>\n      <td>200</td>\n      <td>1800.0</td>\n    </tr>\n    <tr>\n      <th>15</th>\n      <td>2021-04</td>\n      <td>200</td>\n      <td>2000.0</td>\n    </tr>\n    <tr>\n      <th>16</th>\n      <td>2021-05</td>\n      <td>200</td>\n      <td>2200.0</td>\n    </tr>\n    <tr>\n      <th>17</th>\n      <td>2021-06</td>\n      <td>200</td>\n      <td>2400.0</td>\n    </tr>\n    <tr>\n      <th>18</th>\n      <td>2021-07</td>\n      <td>200</td>\n      <td>2600.0</td>\n    </tr>\n    <tr>\n      <th>19</th>\n      <td>2021-08</td>\n      <td>200</td>\n      <td>2800.0</td>\n    </tr>\n    <tr>\n      <th>20</th>\n      <td>2021-09</td>\n      <td>200</td>\n      <td>3000.0</td>\n    </tr>\n    <tr>\n      <th>21</th>\n      <td>2021-10</td>\n      <td>200</td>\n      <td>3200.0</td>\n    </tr>\n    <tr>\n      <th>22</th>\n      <td>2021-11</td>\n      <td>200</td>\n      <td>3400.0</td>\n    </tr>\n    <tr>\n      <th>23</th>\n      <td>2021-12</td>\n      <td>200</td>\n      <td>3600.0</td>\n    </tr>\n  </tbody>\n</table>\n</div>"
     },
     "execution_count": 40,
     "metadata": {},
     "output_type": "execute_result"
    }
   ],
   "source": [
    "total_posts_created_sequence = posts_created_df['PostsCreated'].expanding().sum()\n",
    "\n",
    "total_posts_created_df = posts_created_df.assign(TotalPostsCreated=total_posts_created_sequence)\n",
    "total_posts_created_df"
   ]
  },
  {
   "cell_type": "markdown",
   "source": [],
   "metadata": {
    "collapsed": false
   },
   "id": "1e3da2d766633f10"
  },
  {
   "cell_type": "markdown",
   "source": [
    "### Join two dataframes to calculate tag trends"
   ],
   "metadata": {
    "collapsed": false
   },
   "id": "b508b700fa8b1679"
  },
  {
   "cell_type": "code",
   "execution_count": 41,
   "id": "3cbd1e4f-1194-426f-af63-399e5afffe42",
   "metadata": {
    "tags": [],
    "ExecuteTime": {
     "end_time": "2024-03-24T08:09:49.343884Z",
     "start_time": "2024-03-24T08:09:49.295173Z"
    }
   },
   "outputs": [
    {
     "data": {
      "text/plain": "   Tag CreationDate  TagPostsCreated  TagTotalPostsCreated  PostsCreated  \\\n0    a      2020-01               10                  10.0           100   \n1    a      2020-02               10                  20.0           100   \n2    a      2020-03               10                  30.0           100   \n3    a      2020-04               10                  40.0           100   \n4    a      2020-05               10                  50.0           100   \n..  ..          ...              ...                   ...           ...   \n67   c      2021-08               40                1040.0           200   \n68   c      2021-09               40                1080.0           200   \n69   c      2021-10               40                1120.0           200   \n70   c      2021-11               40                1160.0           200   \n71   c      2021-12               40                1200.0           200   \n\n    TotalPostsCreated  \n0               100.0  \n1               200.0  \n2               300.0  \n3               400.0  \n4               500.0  \n..                ...  \n67             2800.0  \n68             3000.0  \n69             3200.0  \n70             3400.0  \n71             3600.0  \n\n[72 rows x 6 columns]",
      "text/html": "<div>\n<style scoped>\n    .dataframe tbody tr th:only-of-type {\n        vertical-align: middle;\n    }\n\n    .dataframe tbody tr th {\n        vertical-align: top;\n    }\n\n    .dataframe thead th {\n        text-align: right;\n    }\n</style>\n<table border=\"1\" class=\"dataframe\">\n  <thead>\n    <tr style=\"text-align: right;\">\n      <th></th>\n      <th>Tag</th>\n      <th>CreationDate</th>\n      <th>TagPostsCreated</th>\n      <th>TagTotalPostsCreated</th>\n      <th>PostsCreated</th>\n      <th>TotalPostsCreated</th>\n    </tr>\n  </thead>\n  <tbody>\n    <tr>\n      <th>0</th>\n      <td>a</td>\n      <td>2020-01</td>\n      <td>10</td>\n      <td>10.0</td>\n      <td>100</td>\n      <td>100.0</td>\n    </tr>\n    <tr>\n      <th>1</th>\n      <td>a</td>\n      <td>2020-02</td>\n      <td>10</td>\n      <td>20.0</td>\n      <td>100</td>\n      <td>200.0</td>\n    </tr>\n    <tr>\n      <th>2</th>\n      <td>a</td>\n      <td>2020-03</td>\n      <td>10</td>\n      <td>30.0</td>\n      <td>100</td>\n      <td>300.0</td>\n    </tr>\n    <tr>\n      <th>3</th>\n      <td>a</td>\n      <td>2020-04</td>\n      <td>10</td>\n      <td>40.0</td>\n      <td>100</td>\n      <td>400.0</td>\n    </tr>\n    <tr>\n      <th>4</th>\n      <td>a</td>\n      <td>2020-05</td>\n      <td>10</td>\n      <td>50.0</td>\n      <td>100</td>\n      <td>500.0</td>\n    </tr>\n    <tr>\n      <th>...</th>\n      <td>...</td>\n      <td>...</td>\n      <td>...</td>\n      <td>...</td>\n      <td>...</td>\n      <td>...</td>\n    </tr>\n    <tr>\n      <th>67</th>\n      <td>c</td>\n      <td>2021-08</td>\n      <td>40</td>\n      <td>1040.0</td>\n      <td>200</td>\n      <td>2800.0</td>\n    </tr>\n    <tr>\n      <th>68</th>\n      <td>c</td>\n      <td>2021-09</td>\n      <td>40</td>\n      <td>1080.0</td>\n      <td>200</td>\n      <td>3000.0</td>\n    </tr>\n    <tr>\n      <th>69</th>\n      <td>c</td>\n      <td>2021-10</td>\n      <td>40</td>\n      <td>1120.0</td>\n      <td>200</td>\n      <td>3200.0</td>\n    </tr>\n    <tr>\n      <th>70</th>\n      <td>c</td>\n      <td>2021-11</td>\n      <td>40</td>\n      <td>1160.0</td>\n      <td>200</td>\n      <td>3400.0</td>\n    </tr>\n    <tr>\n      <th>71</th>\n      <td>c</td>\n      <td>2021-12</td>\n      <td>40</td>\n      <td>1200.0</td>\n      <td>200</td>\n      <td>3600.0</td>\n    </tr>\n  </tbody>\n</table>\n<p>72 rows × 6 columns</p>\n</div>"
     },
     "execution_count": 41,
     "metadata": {},
     "output_type": "execute_result"
    }
   ],
   "source": [
    "posts_creation_trends_df = pd.merge(\n",
    "    tag_total_posts_created_df,\n",
    "    total_posts_created_df,\n",
    "    left_on='CreationDate',\n",
    "    right_on='CreationDate',\n",
    "    how='inner'\n",
    ")\n",
    "posts_creation_trends_df"
   ]
  },
  {
   "cell_type": "markdown",
   "source": [
    "### Calculate share of posts created per tag"
   ],
   "metadata": {
    "collapsed": false
   },
   "id": "ec8afd91e81263f4"
  },
  {
   "cell_type": "code",
   "execution_count": 42,
   "id": "a5a29867-9b0a-4510-8d30-d72ffe9c24fa",
   "metadata": {
    "tags": [],
    "ExecuteTime": {
     "end_time": "2024-03-24T08:09:49.344170Z",
     "start_time": "2024-03-24T08:09:49.315502Z"
    }
   },
   "outputs": [
    {
     "data": {
      "text/plain": "   Tag CreationDate  TagPostsCreated  TagTotalPostsCreated  PostsCreated  \\\n0    a      2020-01               10                  10.0           100   \n1    a      2020-02               10                  20.0           100   \n2    a      2020-03               10                  30.0           100   \n3    a      2020-04               10                  40.0           100   \n4    a      2020-05               10                  50.0           100   \n..  ..          ...              ...                   ...           ...   \n67   c      2021-08               40                1040.0           200   \n68   c      2021-09               40                1080.0           200   \n69   c      2021-10               40                1120.0           200   \n70   c      2021-11               40                1160.0           200   \n71   c      2021-12               40                1200.0           200   \n\n    TotalPostsCreated   TagShare  \n0               100.0  10.000000  \n1               200.0  10.000000  \n2               300.0  10.000000  \n3               400.0  10.000000  \n4               500.0  10.000000  \n..                ...        ...  \n67             2800.0  37.142857  \n68             3000.0  36.000000  \n69             3200.0  35.000000  \n70             3400.0  34.117647  \n71             3600.0  33.333333  \n\n[72 rows x 7 columns]",
      "text/html": "<div>\n<style scoped>\n    .dataframe tbody tr th:only-of-type {\n        vertical-align: middle;\n    }\n\n    .dataframe tbody tr th {\n        vertical-align: top;\n    }\n\n    .dataframe thead th {\n        text-align: right;\n    }\n</style>\n<table border=\"1\" class=\"dataframe\">\n  <thead>\n    <tr style=\"text-align: right;\">\n      <th></th>\n      <th>Tag</th>\n      <th>CreationDate</th>\n      <th>TagPostsCreated</th>\n      <th>TagTotalPostsCreated</th>\n      <th>PostsCreated</th>\n      <th>TotalPostsCreated</th>\n      <th>TagShare</th>\n    </tr>\n  </thead>\n  <tbody>\n    <tr>\n      <th>0</th>\n      <td>a</td>\n      <td>2020-01</td>\n      <td>10</td>\n      <td>10.0</td>\n      <td>100</td>\n      <td>100.0</td>\n      <td>10.000000</td>\n    </tr>\n    <tr>\n      <th>1</th>\n      <td>a</td>\n      <td>2020-02</td>\n      <td>10</td>\n      <td>20.0</td>\n      <td>100</td>\n      <td>200.0</td>\n      <td>10.000000</td>\n    </tr>\n    <tr>\n      <th>2</th>\n      <td>a</td>\n      <td>2020-03</td>\n      <td>10</td>\n      <td>30.0</td>\n      <td>100</td>\n      <td>300.0</td>\n      <td>10.000000</td>\n    </tr>\n    <tr>\n      <th>3</th>\n      <td>a</td>\n      <td>2020-04</td>\n      <td>10</td>\n      <td>40.0</td>\n      <td>100</td>\n      <td>400.0</td>\n      <td>10.000000</td>\n    </tr>\n    <tr>\n      <th>4</th>\n      <td>a</td>\n      <td>2020-05</td>\n      <td>10</td>\n      <td>50.0</td>\n      <td>100</td>\n      <td>500.0</td>\n      <td>10.000000</td>\n    </tr>\n    <tr>\n      <th>...</th>\n      <td>...</td>\n      <td>...</td>\n      <td>...</td>\n      <td>...</td>\n      <td>...</td>\n      <td>...</td>\n      <td>...</td>\n    </tr>\n    <tr>\n      <th>67</th>\n      <td>c</td>\n      <td>2021-08</td>\n      <td>40</td>\n      <td>1040.0</td>\n      <td>200</td>\n      <td>2800.0</td>\n      <td>37.142857</td>\n    </tr>\n    <tr>\n      <th>68</th>\n      <td>c</td>\n      <td>2021-09</td>\n      <td>40</td>\n      <td>1080.0</td>\n      <td>200</td>\n      <td>3000.0</td>\n      <td>36.000000</td>\n    </tr>\n    <tr>\n      <th>69</th>\n      <td>c</td>\n      <td>2021-10</td>\n      <td>40</td>\n      <td>1120.0</td>\n      <td>200</td>\n      <td>3200.0</td>\n      <td>35.000000</td>\n    </tr>\n    <tr>\n      <th>70</th>\n      <td>c</td>\n      <td>2021-11</td>\n      <td>40</td>\n      <td>1160.0</td>\n      <td>200</td>\n      <td>3400.0</td>\n      <td>34.117647</td>\n    </tr>\n    <tr>\n      <th>71</th>\n      <td>c</td>\n      <td>2021-12</td>\n      <td>40</td>\n      <td>1200.0</td>\n      <td>200</td>\n      <td>3600.0</td>\n      <td>33.333333</td>\n    </tr>\n  </tbody>\n</table>\n<p>72 rows × 7 columns</p>\n</div>"
     },
     "execution_count": 42,
     "metadata": {},
     "output_type": "execute_result"
    }
   ],
   "source": [
    "tag_share_sequence = (posts_creation_trends_df['TagTotalPostsCreated'] / posts_creation_trends_df['TotalPostsCreated']) * 100\n",
    "posts_creation_trends_tag_share_df = posts_creation_trends_df.assign(TagShare=tag_share_sequence)\n",
    "posts_creation_trends_tag_share_df"
   ]
  },
  {
   "cell_type": "markdown",
   "source": [
    "### Calculate tag rank"
   ],
   "metadata": {
    "collapsed": false
   },
   "id": "64146e970ad7d52"
  },
  {
   "cell_type": "code",
   "execution_count": 43,
   "id": "770d2826-193a-49b3-923c-9568752ad7d9",
   "metadata": {
    "ExecuteTime": {
     "end_time": "2024-03-24T08:09:49.431675Z",
     "start_time": "2024-03-24T08:09:49.337141Z"
    }
   },
   "outputs": [
    {
     "data": {
      "text/plain": "   Tag CreationDate  TagPostsCreated  TagTotalPostsCreated  PostsCreated  \\\n0    a      2020-01               10                  10.0           100   \n1    a      2020-02               10                  20.0           100   \n2    a      2020-03               10                  30.0           100   \n3    a      2020-04               10                  40.0           100   \n4    a      2020-05               10                  50.0           100   \n..  ..          ...              ...                   ...           ...   \n67   c      2021-08               40                1040.0           200   \n68   c      2021-09               40                1080.0           200   \n69   c      2021-10               40                1120.0           200   \n70   c      2021-11               40                1160.0           200   \n71   c      2021-12               40                1200.0           200   \n\n    TotalPostsCreated   TagShare  TagRank  \n0               100.0  10.000000      3.0  \n1               200.0  10.000000      3.0  \n2               300.0  10.000000      3.0  \n3               400.0  10.000000      3.0  \n4               500.0  10.000000      3.0  \n..                ...        ...      ...  \n67             2800.0  37.142857      1.0  \n68             3000.0  36.000000      2.0  \n69             3200.0  35.000000      2.0  \n70             3400.0  34.117647      2.0  \n71             3600.0  33.333333      2.0  \n\n[72 rows x 8 columns]",
      "text/html": "<div>\n<style scoped>\n    .dataframe tbody tr th:only-of-type {\n        vertical-align: middle;\n    }\n\n    .dataframe tbody tr th {\n        vertical-align: top;\n    }\n\n    .dataframe thead th {\n        text-align: right;\n    }\n</style>\n<table border=\"1\" class=\"dataframe\">\n  <thead>\n    <tr style=\"text-align: right;\">\n      <th></th>\n      <th>Tag</th>\n      <th>CreationDate</th>\n      <th>TagPostsCreated</th>\n      <th>TagTotalPostsCreated</th>\n      <th>PostsCreated</th>\n      <th>TotalPostsCreated</th>\n      <th>TagShare</th>\n      <th>TagRank</th>\n    </tr>\n  </thead>\n  <tbody>\n    <tr>\n      <th>0</th>\n      <td>a</td>\n      <td>2020-01</td>\n      <td>10</td>\n      <td>10.0</td>\n      <td>100</td>\n      <td>100.0</td>\n      <td>10.000000</td>\n      <td>3.0</td>\n    </tr>\n    <tr>\n      <th>1</th>\n      <td>a</td>\n      <td>2020-02</td>\n      <td>10</td>\n      <td>20.0</td>\n      <td>100</td>\n      <td>200.0</td>\n      <td>10.000000</td>\n      <td>3.0</td>\n    </tr>\n    <tr>\n      <th>2</th>\n      <td>a</td>\n      <td>2020-03</td>\n      <td>10</td>\n      <td>30.0</td>\n      <td>100</td>\n      <td>300.0</td>\n      <td>10.000000</td>\n      <td>3.0</td>\n    </tr>\n    <tr>\n      <th>3</th>\n      <td>a</td>\n      <td>2020-04</td>\n      <td>10</td>\n      <td>40.0</td>\n      <td>100</td>\n      <td>400.0</td>\n      <td>10.000000</td>\n      <td>3.0</td>\n    </tr>\n    <tr>\n      <th>4</th>\n      <td>a</td>\n      <td>2020-05</td>\n      <td>10</td>\n      <td>50.0</td>\n      <td>100</td>\n      <td>500.0</td>\n      <td>10.000000</td>\n      <td>3.0</td>\n    </tr>\n    <tr>\n      <th>...</th>\n      <td>...</td>\n      <td>...</td>\n      <td>...</td>\n      <td>...</td>\n      <td>...</td>\n      <td>...</td>\n      <td>...</td>\n      <td>...</td>\n    </tr>\n    <tr>\n      <th>67</th>\n      <td>c</td>\n      <td>2021-08</td>\n      <td>40</td>\n      <td>1040.0</td>\n      <td>200</td>\n      <td>2800.0</td>\n      <td>37.142857</td>\n      <td>1.0</td>\n    </tr>\n    <tr>\n      <th>68</th>\n      <td>c</td>\n      <td>2021-09</td>\n      <td>40</td>\n      <td>1080.0</td>\n      <td>200</td>\n      <td>3000.0</td>\n      <td>36.000000</td>\n      <td>2.0</td>\n    </tr>\n    <tr>\n      <th>69</th>\n      <td>c</td>\n      <td>2021-10</td>\n      <td>40</td>\n      <td>1120.0</td>\n      <td>200</td>\n      <td>3200.0</td>\n      <td>35.000000</td>\n      <td>2.0</td>\n    </tr>\n    <tr>\n      <th>70</th>\n      <td>c</td>\n      <td>2021-11</td>\n      <td>40</td>\n      <td>1160.0</td>\n      <td>200</td>\n      <td>3400.0</td>\n      <td>34.117647</td>\n      <td>2.0</td>\n    </tr>\n    <tr>\n      <th>71</th>\n      <td>c</td>\n      <td>2021-12</td>\n      <td>40</td>\n      <td>1200.0</td>\n      <td>200</td>\n      <td>3600.0</td>\n      <td>33.333333</td>\n      <td>2.0</td>\n    </tr>\n  </tbody>\n</table>\n<p>72 rows × 8 columns</p>\n</div>"
     },
     "execution_count": 43,
     "metadata": {},
     "output_type": "execute_result"
    }
   ],
   "source": [
    "tag_rank_sequence = posts_creation_trends_tag_share_df.groupby(\"CreationDate\")[\"TagShare\"].rank(method=\"first\", ascending=False)\n",
    "posts_creation_trends_df = posts_creation_trends_tag_share_df.assign(TagRank=tag_rank_sequence)\n",
    "posts_creation_trends_df"
   ]
  },
  {
   "cell_type": "markdown",
   "source": [
    "### Save\n",
    "Save final dataframe as intermediate result"
   ],
   "metadata": {
    "collapsed": false
   },
   "id": "34e9efa13f00c4b1"
  },
  {
   "cell_type": "code",
   "execution_count": 44,
   "id": "4fbc2ac0-4bf6-4972-83d9-f6a1c281989d",
   "metadata": {
    "tags": [],
    "ExecuteTime": {
     "end_time": "2024-03-24T08:09:49.498628Z",
     "start_time": "2024-03-24T08:09:49.362027Z"
    }
   },
   "outputs": [],
   "source": [
    "posts_creation_trends_file_path = get_file_path('posts_creation_trends.csv')\n",
    "posts_creation_trends_df.to_csv(posts_creation_trends_file_path, index=False)"
   ]
  },
  {
   "cell_type": "code",
   "execution_count": 44,
   "outputs": [],
   "source": [],
   "metadata": {
    "collapsed": false,
    "ExecuteTime": {
     "end_time": "2024-03-24T08:09:49.563354Z",
     "start_time": "2024-03-24T08:09:49.375776Z"
    }
   }
  }
 ],
 "metadata": {
  "environment": {
   "kernel": "conda-root-py",
   "name": "workbench-notebooks.m118",
   "type": "gcloud",
   "uri": "us-docker.pkg.dev/deeplearning-platform-release/gcr.io/workbench-notebooks:m118"
  },
  "kernelspec": {
   "name": "python3",
   "language": "python",
   "display_name": "Python 3 (ipykernel)"
  },
  "language_info": {
   "codemirror_mode": {
    "name": "ipython",
    "version": 3
   },
   "file_extension": ".py",
   "mimetype": "text/x-python",
   "name": "python",
   "nbconvert_exporter": "python",
   "pygments_lexer": "ipython3",
   "version": "3.10.13"
  }
 },
 "nbformat": 4,
 "nbformat_minor": 5
}
