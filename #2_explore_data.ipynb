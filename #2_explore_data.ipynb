{
 "cells": [
  {
   "cell_type": "markdown",
   "id": "664676ce-ed04-4e31-815b-7fd9e3754e7c",
   "metadata": {},
   "source": [
    "## Notebook to explore data to select for further analysis\n",
    "\n",
    "### Description\n",
    "The main objective of this notebook is to explore posts data to use for further trends analysis\n",
    "\n",
    "### Input \n",
    "This notebook takes as an input `posts.csv` file, produced by the previous step.\n",
    "\n",
    "### Output\n",
    "N/A"
   ]
  },
  {
   "cell_type": "code",
   "execution_count": 1,
   "id": "3a6cd50a-bd11-47ad-82da-ac878e737718",
   "metadata": {
    "tags": []
   },
   "outputs": [],
   "source": [
    "import pandas as pd\n",
    "from config import get_file_path"
   ]
  },
  {
   "cell_type": "markdown",
   "id": "94d151ab-f72f-4d00-a2e7-fe60a5d93bc0",
   "metadata": {},
   "source": [
    "#### Load data, show shape and sample"
   ]
  },
  {
   "cell_type": "code",
   "execution_count": 2,
   "id": "162c10ab-b25c-4d64-9a1b-e79df328a837",
   "metadata": {
    "tags": []
   },
   "outputs": [
    {
     "data": {
      "text/html": [
       "<div>\n",
       "<style scoped>\n",
       "    .dataframe tbody tr th:only-of-type {\n",
       "        vertical-align: middle;\n",
       "    }\n",
       "\n",
       "    .dataframe tbody tr th {\n",
       "        vertical-align: top;\n",
       "    }\n",
       "\n",
       "    .dataframe thead th {\n",
       "        text-align: right;\n",
       "    }\n",
       "</style>\n",
       "<table border=\"1\" class=\"dataframe\">\n",
       "  <thead>\n",
       "    <tr style=\"text-align: right;\">\n",
       "      <th></th>\n",
       "      <th>CreationDate</th>\n",
       "      <th>Id</th>\n",
       "      <th>CommentCount</th>\n",
       "      <th>ViewCount</th>\n",
       "      <th>Score</th>\n",
       "      <th>PostTypeId</th>\n",
       "      <th>ClosedDate</th>\n",
       "      <th>ParentId</th>\n",
       "      <th>Tags</th>\n",
       "      <th>DeletionDate</th>\n",
       "      <th>FavoriteCount</th>\n",
       "    </tr>\n",
       "  </thead>\n",
       "  <tbody>\n",
       "    <tr>\n",
       "      <th>0</th>\n",
       "      <td>2008-07-31T21:42:52.667</td>\n",
       "      <td>4</td>\n",
       "      <td>4</td>\n",
       "      <td>76276.0</td>\n",
       "      <td>804</td>\n",
       "      <td>1</td>\n",
       "      <td>NaN</td>\n",
       "      <td>NaN</td>\n",
       "      <td>&lt;c#&gt;&lt;floating-point&gt;&lt;type-conversion&gt;&lt;double&gt;&lt;...</td>\n",
       "      <td>NaN</td>\n",
       "      <td>0.0</td>\n",
       "    </tr>\n",
       "    <tr>\n",
       "      <th>1</th>\n",
       "      <td>2008-07-31T22:08:08.620</td>\n",
       "      <td>6</td>\n",
       "      <td>0</td>\n",
       "      <td>24428.0</td>\n",
       "      <td>320</td>\n",
       "      <td>1</td>\n",
       "      <td>NaN</td>\n",
       "      <td>NaN</td>\n",
       "      <td>&lt;html&gt;&lt;css&gt;&lt;internet-explorer-7&gt;</td>\n",
       "      <td>NaN</td>\n",
       "      <td>0.0</td>\n",
       "    </tr>\n",
       "    <tr>\n",
       "      <th>2</th>\n",
       "      <td>2008-07-31T22:17:57.883</td>\n",
       "      <td>7</td>\n",
       "      <td>0</td>\n",
       "      <td>NaN</td>\n",
       "      <td>528</td>\n",
       "      <td>2</td>\n",
       "      <td>NaN</td>\n",
       "      <td>4.0</td>\n",
       "      <td>NaN</td>\n",
       "      <td>NaN</td>\n",
       "      <td>NaN</td>\n",
       "    </tr>\n",
       "    <tr>\n",
       "      <th>3</th>\n",
       "      <td>2008-07-31T23:40:59.743</td>\n",
       "      <td>9</td>\n",
       "      <td>11</td>\n",
       "      <td>824304.0</td>\n",
       "      <td>2246</td>\n",
       "      <td>1</td>\n",
       "      <td>NaN</td>\n",
       "      <td>NaN</td>\n",
       "      <td>&lt;c#&gt;&lt;.net&gt;&lt;datetime&gt;</td>\n",
       "      <td>NaN</td>\n",
       "      <td>0.0</td>\n",
       "    </tr>\n",
       "    <tr>\n",
       "      <th>4</th>\n",
       "      <td>2008-07-31T23:55:37.967</td>\n",
       "      <td>11</td>\n",
       "      <td>4</td>\n",
       "      <td>202471.0</td>\n",
       "      <td>1651</td>\n",
       "      <td>1</td>\n",
       "      <td>NaN</td>\n",
       "      <td>NaN</td>\n",
       "      <td>&lt;c#&gt;&lt;datetime&gt;&lt;time&gt;&lt;datediff&gt;&lt;relative-time-s...</td>\n",
       "      <td>NaN</td>\n",
       "      <td>0.0</td>\n",
       "    </tr>\n",
       "    <tr>\n",
       "      <th>...</th>\n",
       "      <td>...</td>\n",
       "      <td>...</td>\n",
       "      <td>...</td>\n",
       "      <td>...</td>\n",
       "      <td>...</td>\n",
       "      <td>...</td>\n",
       "      <td>...</td>\n",
       "      <td>...</td>\n",
       "      <td>...</td>\n",
       "      <td>...</td>\n",
       "      <td>...</td>\n",
       "    </tr>\n",
       "    <tr>\n",
       "      <th>59749044</th>\n",
       "      <td>2024-03-02T02:52:48.793</td>\n",
       "      <td>78091308</td>\n",
       "      <td>0</td>\n",
       "      <td>3.0</td>\n",
       "      <td>0</td>\n",
       "      <td>1</td>\n",
       "      <td>NaN</td>\n",
       "      <td>NaN</td>\n",
       "      <td>&lt;wifi&gt;&lt;gstreamer&gt;&lt;esp32&gt;&lt;audio-streaming&gt;&lt;mult...</td>\n",
       "      <td>NaN</td>\n",
       "      <td>NaN</td>\n",
       "    </tr>\n",
       "    <tr>\n",
       "      <th>59749045</th>\n",
       "      <td>2024-03-02T02:53:20.573</td>\n",
       "      <td>78091309</td>\n",
       "      <td>0</td>\n",
       "      <td>2.0</td>\n",
       "      <td>0</td>\n",
       "      <td>1</td>\n",
       "      <td>NaN</td>\n",
       "      <td>NaN</td>\n",
       "      <td>&lt;jquery&gt;&lt;woocommerce&gt;&lt;hide&gt;&lt;show&gt;</td>\n",
       "      <td>NaN</td>\n",
       "      <td>NaN</td>\n",
       "    </tr>\n",
       "    <tr>\n",
       "      <th>59749046</th>\n",
       "      <td>2024-03-02T02:53:29.510</td>\n",
       "      <td>78091310</td>\n",
       "      <td>0</td>\n",
       "      <td>NaN</td>\n",
       "      <td>0</td>\n",
       "      <td>2</td>\n",
       "      <td>NaN</td>\n",
       "      <td>18727766.0</td>\n",
       "      <td>NaN</td>\n",
       "      <td>NaN</td>\n",
       "      <td>NaN</td>\n",
       "    </tr>\n",
       "    <tr>\n",
       "      <th>59749047</th>\n",
       "      <td>2024-03-02T02:54:12.030</td>\n",
       "      <td>78091311</td>\n",
       "      <td>0</td>\n",
       "      <td>2.0</td>\n",
       "      <td>0</td>\n",
       "      <td>1</td>\n",
       "      <td>NaN</td>\n",
       "      <td>NaN</td>\n",
       "      <td>&lt;r&gt;</td>\n",
       "      <td>NaN</td>\n",
       "      <td>NaN</td>\n",
       "    </tr>\n",
       "    <tr>\n",
       "      <th>59749048</th>\n",
       "      <td>2024-03-02T02:54:41.790</td>\n",
       "      <td>78091312</td>\n",
       "      <td>0</td>\n",
       "      <td>NaN</td>\n",
       "      <td>0</td>\n",
       "      <td>2</td>\n",
       "      <td>NaN</td>\n",
       "      <td>56799540.0</td>\n",
       "      <td>NaN</td>\n",
       "      <td>NaN</td>\n",
       "      <td>NaN</td>\n",
       "    </tr>\n",
       "  </tbody>\n",
       "</table>\n",
       "<p>59749049 rows × 11 columns</p>\n",
       "</div>"
      ],
      "text/plain": [
       "                     CreationDate        Id  CommentCount  ViewCount  Score  \\\n",
       "0         2008-07-31T21:42:52.667         4             4    76276.0    804   \n",
       "1         2008-07-31T22:08:08.620         6             0    24428.0    320   \n",
       "2         2008-07-31T22:17:57.883         7             0        NaN    528   \n",
       "3         2008-07-31T23:40:59.743         9            11   824304.0   2246   \n",
       "4         2008-07-31T23:55:37.967        11             4   202471.0   1651   \n",
       "...                           ...       ...           ...        ...    ...   \n",
       "59749044  2024-03-02T02:52:48.793  78091308             0        3.0      0   \n",
       "59749045  2024-03-02T02:53:20.573  78091309             0        2.0      0   \n",
       "59749046  2024-03-02T02:53:29.510  78091310             0        NaN      0   \n",
       "59749047  2024-03-02T02:54:12.030  78091311             0        2.0      0   \n",
       "59749048  2024-03-02T02:54:41.790  78091312             0        NaN      0   \n",
       "\n",
       "          PostTypeId ClosedDate    ParentId  \\\n",
       "0                  1        NaN         NaN   \n",
       "1                  1        NaN         NaN   \n",
       "2                  2        NaN         4.0   \n",
       "3                  1        NaN         NaN   \n",
       "4                  1        NaN         NaN   \n",
       "...              ...        ...         ...   \n",
       "59749044           1        NaN         NaN   \n",
       "59749045           1        NaN         NaN   \n",
       "59749046           2        NaN  18727766.0   \n",
       "59749047           1        NaN         NaN   \n",
       "59749048           2        NaN  56799540.0   \n",
       "\n",
       "                                                       Tags  DeletionDate  \\\n",
       "0         <c#><floating-point><type-conversion><double><...           NaN   \n",
       "1                          <html><css><internet-explorer-7>           NaN   \n",
       "2                                                       NaN           NaN   \n",
       "3                                      <c#><.net><datetime>           NaN   \n",
       "4         <c#><datetime><time><datediff><relative-time-s...           NaN   \n",
       "...                                                     ...           ...   \n",
       "59749044  <wifi><gstreamer><esp32><audio-streaming><mult...           NaN   \n",
       "59749045                  <jquery><woocommerce><hide><show>           NaN   \n",
       "59749046                                                NaN           NaN   \n",
       "59749047                                                <r>           NaN   \n",
       "59749048                                                NaN           NaN   \n",
       "\n",
       "          FavoriteCount  \n",
       "0                   0.0  \n",
       "1                   0.0  \n",
       "2                   NaN  \n",
       "3                   0.0  \n",
       "4                   0.0  \n",
       "...                 ...  \n",
       "59749044            NaN  \n",
       "59749045            NaN  \n",
       "59749046            NaN  \n",
       "59749047            NaN  \n",
       "59749048            NaN  \n",
       "\n",
       "[59749049 rows x 11 columns]"
      ]
     },
     "execution_count": 2,
     "metadata": {},
     "output_type": "execute_result"
    }
   ],
   "source": [
    "posts_file_path = get_file_path(\"posts.csv\")\n",
    "posts_df = pd.read_csv(posts_file_path)\n",
    "\n",
    "posts_df['CreationDate'] = pd.to_datetime(posts_df['CreationDate'])\n",
    "posts_creation_df = posts_df[['Id', 'CreationDate']].copy()"
   ]
  },
  {
   "cell_type": "markdown",
   "id": "e910d882-1b67-46af-b1b5-d07923c40d36",
   "metadata": {},
   "source": [
    "### Discover non null dimension values for posts "
   ]
  },
  {
   "cell_type": "code",
   "execution_count": 3,
   "id": "820d0ecd-b724-404a-b8e6-7c67e0e16289",
   "metadata": {
    "tags": []
   },
   "outputs": [
    {
     "name": "stdout",
     "output_type": "stream",
     "text": [
      "All Posts: 657,239,539\n",
      "Favorited Posts: 1,518 (0.00%)\n",
      "Commented Posts: 331,794,034 (50.48%)\n",
      "Viewed Posts: 264,899,404 (40.30%)\n",
      "Scored Posts: 358,470,134 (54.54%)\n"
     ]
    }
   ],
   "source": [
    "posts_size = posts_df.size\n",
    "favorited_posts_size = posts_df[posts_df['FavoriteCount'] > 0.0].size\n",
    "commented_posts_size = posts_df[posts_df['CommentCount'] > 0.0].size\n",
    "viewed_posts_size = posts_df[posts_df['ViewCount'] > 0.0].size\n",
    "scored_posts_size = posts_df[posts_df['Score'] > 0.0].size\n",
    "\n",
    "favorited_posts_proportion = favorited_posts_size / posts_size\n",
    "commented_posts_proportion = commented_posts_size / posts_size\n",
    "viewed_posts_proportion = viewed_posts_size / posts_size\n",
    "scored_posts_proportion = scored_posts_size / posts_size\n",
    "\n",
    "print(f\"All Posts: {posts_size:,}\")\n",
    "print(f\"Favorited Posts: {favorited_posts_size:,} ({favorited_posts_proportion:.2%})\")\n",
    "print(f\"Commented Posts: {commented_posts_size:,} ({commented_posts_proportion:.2%})\")\n",
    "print(f\"Viewed Posts: {viewed_posts_size:,} ({viewed_posts_proportion:.2%})\")\n",
    "print(f\"Scored Posts: {scored_posts_size:,} ({scored_posts_proportion:.2%})\")"
   ]
  },
  {
   "cell_type": "markdown",
   "id": "8845a6f4-2b95-4b41-ac08-fb74ddcb2f1c",
   "metadata": {},
   "source": [
    "### Discover correlations between posts"
   ]
  },
  {
   "cell_type": "code",
   "execution_count": 4,
   "id": "f2558c24-94ec-4b25-9030-aff8113d8f83",
   "metadata": {
    "tags": []
   },
   "outputs": [
    {
     "name": "stdout",
     "output_type": "stream",
     "text": [
      "|              |   CommentCount |   ViewCount |     Score |\n",
      "|:-------------|---------------:|------------:|----------:|\n",
      "| CommentCount |     1          |  0.00796425 | 0.0839743 |\n",
      "| ViewCount    |     0.00796425 |  1          | 0.761194  |\n",
      "| Score        |     0.0839743  |  0.761194   | 1         |\n"
     ]
    }
   ],
   "source": [
    "print(posts_df[['CommentCount', 'ViewCount', 'Score']].corr().to_markdown())"
   ]
  },
  {
   "cell_type": "markdown",
   "id": "7744e6b7-5c52-4d62-bde0-8db256242b8e",
   "metadata": {
    "tags": []
   },
   "source": [
    "### Discover votes duration"
   ]
  },
  {
   "cell_type": "code",
   "execution_count": 5,
   "id": "02cf47df-6802-44ed-934f-45a7309ff3a7",
   "metadata": {
    "tags": []
   },
   "outputs": [],
   "source": [
    "votes_file_path = get_file_path(\"votes.csv\")\n",
    "votes_df = pd.read_csv(votes_file_path)\n",
    "\n",
    "votes_df['CreationDate'] = pd.to_datetime(votes_df['CreationDate'])\n",
    "votes_creation_df = votes_df[['PostId', 'CreationDate']].copy()"
   ]
  },
  {
   "cell_type": "code",
   "execution_count": 7,
   "id": "1e92c175-9557-461f-8008-c1b91e75840e",
   "metadata": {
    "tags": []
   },
   "outputs": [],
   "source": [
    "posts_votes_df = pd.merge(posts_creation_df, votes_creation_df, left_on='Id', right_on='PostId', suffixes=('_post', '_vote'))\n",
    "votes_months_difference_seq = ((posts_votes_df['CreationDate_vote'] - posts_votes_df['CreationDate_post']).dt.days / 30).round()"
   ]
  },
  {
   "cell_type": "code",
   "execution_count": 8,
   "id": "8e7037ad-3df2-4098-b8c5-05ed91de4030",
   "metadata": {
    "tags": []
   },
   "outputs": [
    {
     "data": {
      "image/png": "[encoded data removed]",
      "text/plain": [
       "<Figure size 2000x1000 with 1 Axes>"
      ]
     },
     "metadata": {},
     "output_type": "display_data"
    }
   ],
   "source": [
    "import matplotlib.pyplot as plt\n",
    "\n",
    "plt.figure(figsize=(20, 10))\n",
    "plt.hist(votes_months_difference_seq, bins=100)\n",
    "plt.xlabel('Value')\n",
    "plt.ylabel('Frequency')\n",
    "plt.show()"
   ]
  },
  {
   "cell_type": "code",
   "execution_count": 16,
   "id": "e0bafdab-e7e2-4ac3-94ac-1c396019b92d",
   "metadata": {
    "tags": []
   },
   "outputs": [
    {
     "name": "stdout",
     "output_type": "stream",
     "text": [
      "-0.0     31.868489\n",
      " 1.0      1.590028\n",
      " 2.0      1.144887\n",
      " 4.0      1.003856\n",
      " 3.0      0.978432\n",
      " 6.0      0.962302\n",
      " 8.0      0.926534\n",
      " 10.0     0.920690\n",
      " 5.0      0.913960\n",
      " 12.0     0.903898\n",
      "Name: proportion, dtype: float64\n"
     ]
    }
   ],
   "source": [
    "months_difference_counts = months_difference_seq.value_counts(normalize=True) * 100\n",
    "print(months_difference_counts.head(10))"
   ]
  },
  {
   "cell_type": "markdown",
   "id": "ed60bed4-5107-41b3-a9fe-a50bcbaf1719",
   "metadata": {
    "tags": []
   },
   "source": [
    "### Discover comments duration"
   ]
  },
  {
   "cell_type": "code",
   "execution_count": 20,
   "id": "ffc6ab59-e0b8-400b-b860-2b8e852910b8",
   "metadata": {
    "tags": []
   },
   "outputs": [],
   "source": [
    "comments_file_path = get_file_path(\"comments.csv\")\n",
    "comments_df = pd.read_csv(comments_file_path)"
   ]
  },
  {
   "cell_type": "code",
   "execution_count": 23,
   "id": "e94bfc1c-378e-4938-906f-accd68e51219",
   "metadata": {
    "tags": []
   },
   "outputs": [],
   "source": [
    "comments_df['CreationDate'] = pd.to_datetime(comments_df['CreationDate'])\n",
    "comments_creation_df = comments_df[['PostId', 'CreationDate']].copy()"
   ]
  },
  {
   "cell_type": "code",
   "execution_count": 24,
   "id": "05977ea7-eaf3-41f0-b145-ea56233998d0",
   "metadata": {
    "tags": []
   },
   "outputs": [],
   "source": [
    "posts_comments_df = pd.merge(posts_creation_df, comments_creation_df, left_on='Id', right_on='PostId', suffixes=('_post', '_comment'))\n",
    "comments_months_difference_seq = ((posts_comments_df['CreationDate_comment'] - posts_comments_df['CreationDate_post']).dt.days / 30).round()"
   ]
  },
  {
   "cell_type": "code",
   "execution_count": 25,
   "id": "4757d43a-e9c8-4a46-b94a-bbe2d4783475",
   "metadata": {
    "tags": []
   },
   "outputs": [
    {
     "data": {
      "image/png": "[encoded data removed]",
      "text/plain": [
       "<Figure size 2000x1000 with 1 Axes>"
      ]
     },
     "metadata": {},
     "output_type": "display_data"
    }
   ],
   "source": [
    "import matplotlib.pyplot as plt\n",
    "\n",
    "plt.figure(figsize=(20, 10))\n",
    "plt.hist(comments_months_difference_seq, bins=100)\n",
    "plt.xlabel('Value')\n",
    "plt.ylabel('Frequency')\n",
    "plt.show()"
   ]
  },
  {
   "cell_type": "code",
   "execution_count": 26,
   "id": "3aa326f9-f84a-4be1-8d78-7f7099bd111b",
   "metadata": {
    "tags": []
   },
   "outputs": [
    {
     "name": "stdout",
     "output_type": "stream",
     "text": [
      "0.0     90.935936\n",
      "1.0      0.911582\n",
      "2.0      0.438805\n",
      "3.0      0.318881\n",
      "4.0      0.291622\n",
      "5.0      0.244062\n",
      "6.0      0.240956\n",
      "8.0      0.210341\n",
      "7.0      0.209174\n",
      "10.0     0.192652\n",
      "Name: proportion, dtype: float64\n"
     ]
    }
   ],
   "source": [
    "comments_months_difference_counts = comments_months_difference_seq.value_counts(normalize=True) * 100\n",
    "print(comments_months_difference_counts.head(10))"
   ]
  },
  {
   "cell_type": "code",
   "execution_count": null,
   "id": "929ce5d9-4005-4367-b47f-6f32bdb0fec5",
   "metadata": {},
   "outputs": [],
   "source": []
  }
 ],
 "metadata": {
  "environment": {
   "kernel": "conda-root-py",
   "name": "workbench-notebooks.m118",
   "type": "gcloud",
   "uri": "us-docker.pkg.dev/deeplearning-platform-release/gcr.io/workbench-notebooks:m118"
  },
  "kernelspec": {
   "display_name": "Python 3 (ipykernel)",
   "language": "python",
   "name": "conda-root-py"
  },
  "language_info": {
   "codemirror_mode": {
    "name": "ipython",
    "version": 3
   },
   "file_extension": ".py",
   "mimetype": "text/x-python",
   "name": "python",
   "nbconvert_exporter": "python",
   "pygments_lexer": "ipython3",
   "version": "3.10.13"
  }
 },
 "nbformat": 4,
 "nbformat_minor": 5
}
